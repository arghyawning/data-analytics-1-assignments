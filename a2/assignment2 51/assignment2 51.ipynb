{
 "cells": [
  {
   "cell_type": "markdown",
   "metadata": {},
   "source": [
    "# Data Analytics I: Assignment 2"
   ]
  },
  {
   "cell_type": "code",
   "execution_count": 1,
   "metadata": {},
   "outputs": [],
   "source": [
    "import numpy as np\n",
    "import pandas as pd\n",
    "import matplotlib.pyplot as plt\n",
    "import seaborn as sns"
   ]
  },
  {
   "cell_type": "code",
   "execution_count": 2,
   "metadata": {},
   "outputs": [],
   "source": [
    "# extracting data from the csv\n",
    "def extract_data(file):\n",
    "    data = pd.read_csv(file)\n",
    "    return data\n",
    "\n",
    "data = extract_data('Electric_Vehicle_Data.csv')"
   ]
  },
  {
   "cell_type": "code",
   "execution_count": 3,
   "metadata": {},
   "outputs": [
    {
     "data": {
      "text/plain": [
       "Index(['VIN (1-10)', 'County', 'City', 'State', 'Postal Code', 'Model Year',\n",
       "       'Make', 'Model', 'Electric Vehicle Type',\n",
       "       'Clean Alternative Fuel Vehicle (CAFV) Eligibility', 'Electric Range',\n",
       "       'Base MSRP', 'Legislative District', 'DOL Vehicle ID',\n",
       "       'Vehicle Location', 'Electric Utility', '2020 Census Tract'],\n",
       "      dtype='object')"
      ]
     },
     "execution_count": 3,
     "metadata": {},
     "output_type": "execute_result"
    }
   ],
   "source": [
    "# extracting the columns\n",
    "data.columns"
   ]
  },
  {
   "cell_type": "code",
   "execution_count": 4,
   "metadata": {},
   "outputs": [],
   "source": [
    "# step 1: Select the task-relevant data relation P.\n",
    "# Make, Model, electric Vehicle Type,Electric Range,Base MSRP Model Year are what i want to select\n",
    "data_reduced = data[['Make', 'Model', 'Electric Vehicle Type', 'Electric Range', 'Base MSRP', 'Model Year', \"State\"]]"
   ]
  },
  {
   "cell_type": "code",
   "execution_count": 5,
   "metadata": {},
   "outputs": [
    {
     "data": {
      "text/html": [
       "<div>\n",
       "<style scoped>\n",
       "    .dataframe tbody tr th:only-of-type {\n",
       "        vertical-align: middle;\n",
       "    }\n",
       "\n",
       "    .dataframe tbody tr th {\n",
       "        vertical-align: top;\n",
       "    }\n",
       "\n",
       "    .dataframe thead th {\n",
       "        text-align: right;\n",
       "    }\n",
       "</style>\n",
       "<table border=\"1\" class=\"dataframe\">\n",
       "  <thead>\n",
       "    <tr style=\"text-align: right;\">\n",
       "      <th></th>\n",
       "      <th>Make</th>\n",
       "      <th>Model</th>\n",
       "      <th>Electric Vehicle Type</th>\n",
       "      <th>Electric Range</th>\n",
       "      <th>Base MSRP</th>\n",
       "      <th>Model Year</th>\n",
       "      <th>State</th>\n",
       "    </tr>\n",
       "  </thead>\n",
       "  <tbody>\n",
       "    <tr>\n",
       "      <th>0</th>\n",
       "      <td>AUDI</td>\n",
       "      <td>A3</td>\n",
       "      <td>Plug-in Hybrid Electric Vehicle (PHEV)</td>\n",
       "      <td>16</td>\n",
       "      <td>0</td>\n",
       "      <td>2017</td>\n",
       "      <td>WA</td>\n",
       "    </tr>\n",
       "    <tr>\n",
       "      <th>1</th>\n",
       "      <td>AUDI</td>\n",
       "      <td>A3</td>\n",
       "      <td>Plug-in Hybrid Electric Vehicle (PHEV)</td>\n",
       "      <td>16</td>\n",
       "      <td>0</td>\n",
       "      <td>2018</td>\n",
       "      <td>WA</td>\n",
       "    </tr>\n",
       "    <tr>\n",
       "      <th>2</th>\n",
       "      <td>TESLA</td>\n",
       "      <td>MODEL S</td>\n",
       "      <td>Battery Electric Vehicle (BEV)</td>\n",
       "      <td>210</td>\n",
       "      <td>0</td>\n",
       "      <td>2017</td>\n",
       "      <td>WA</td>\n",
       "    </tr>\n",
       "    <tr>\n",
       "      <th>3</th>\n",
       "      <td>JEEP</td>\n",
       "      <td>WRANGLER</td>\n",
       "      <td>Plug-in Hybrid Electric Vehicle (PHEV)</td>\n",
       "      <td>25</td>\n",
       "      <td>0</td>\n",
       "      <td>2021</td>\n",
       "      <td>WA</td>\n",
       "    </tr>\n",
       "    <tr>\n",
       "      <th>4</th>\n",
       "      <td>TESLA</td>\n",
       "      <td>MODEL 3</td>\n",
       "      <td>Battery Electric Vehicle (BEV)</td>\n",
       "      <td>308</td>\n",
       "      <td>0</td>\n",
       "      <td>2020</td>\n",
       "      <td>WA</td>\n",
       "    </tr>\n",
       "  </tbody>\n",
       "</table>\n",
       "</div>"
      ],
      "text/plain": [
       "    Make     Model                   Electric Vehicle Type  Electric Range  \\\n",
       "0   AUDI        A3  Plug-in Hybrid Electric Vehicle (PHEV)              16   \n",
       "1   AUDI        A3  Plug-in Hybrid Electric Vehicle (PHEV)              16   \n",
       "2  TESLA   MODEL S          Battery Electric Vehicle (BEV)             210   \n",
       "3   JEEP  WRANGLER  Plug-in Hybrid Electric Vehicle (PHEV)              25   \n",
       "4  TESLA   MODEL 3          Battery Electric Vehicle (BEV)             308   \n",
       "\n",
       "   Base MSRP  Model Year State  \n",
       "0          0        2017    WA  \n",
       "1          0        2018    WA  \n",
       "2          0        2017    WA  \n",
       "3          0        2021    WA  \n",
       "4          0        2020    WA  "
      ]
     },
     "execution_count": 5,
     "metadata": {},
     "output_type": "execute_result"
    }
   ],
   "source": [
    "data_reduced.head()"
   ]
  },
  {
   "cell_type": "code",
   "execution_count": 6,
   "metadata": {},
   "outputs": [],
   "source": [
    "def create_concept_hierarchy(data):\n",
    "    concept_hierarchy = {}\n",
    "\n",
    "    # Make\n",
    "    makes = data['Make'].unique()\n",
    "    concept_hierarchy['Make'] = {make: make for make in makes}\n",
    "    # Electric Vehicle Type\n",
    "    concept_hierarchy['Electric Vehicle Type'] = {\n",
    "        'Battery Electric Vehicle (BEV)': 'FullElectric',\n",
    "        'Plug-in Hybrid Electric Vehicle (PHEV)': 'HybridElectric'\n",
    "    }\n",
    "\n",
    "    # Electric Range\n",
    "    concept_hierarchy['Electric Range'] = lambda x: 'LongRange' if x > 200 else ('MediumRange' if x > 100 else 'ShortRange')\n",
    "\n",
    "    # Base MSRP\n",
    "    concept_hierarchy['Base MSRP'] = lambda x: 'HighEnd' if x > 50000 else ('MidRange' if x > 30000 else 'Affordable')\n",
    "\n",
    "    # Model Year\n",
    "    concept_hierarchy['Model Year'] = lambda x: str(x // 10 * 10) + 's'  # Generalize to decades\n",
    "\n",
    "    # State\n",
    "\n",
    "    regions = {\n",
    "        'West': ['WA', 'OR', 'CA', 'NV', 'ID', 'MT', 'WY', 'UT', 'CO', 'AZ', 'NM'],\n",
    "        'Midwest': ['ND', 'SD', 'NE', 'KS', 'MN', 'IA', 'MO', 'WI', 'IL', 'IN', 'MI', 'OH'],\n",
    "        'South': ['TX', 'OK', 'AR', 'LA', 'MS', 'AL', 'TN', 'KY', 'WV', 'VA', 'NC', 'SC', 'GA', 'FL'],\n",
    "        'Northeast': ['ME', 'NH', 'VT', 'MA', 'RI', 'CT', 'NY', 'PA', 'NJ', 'DE', 'MD', 'DC']\n",
    "    }\n",
    "    concept_hierarchy['State'] = {state: region for region, states in regions.items() for state in states}\n",
    "\n",
    "    return concept_hierarchy\n",
    "\n",
    "hierarchy = create_concept_hierarchy(data_reduced)\n"
   ]
  },
  {
   "cell_type": "code",
   "execution_count": 7,
   "metadata": {},
   "outputs": [
    {
     "name": "stdout",
     "output_type": "stream",
     "text": [
      "\n",
      "Make:\n",
      "  AUDI: AUDI\n",
      "  TESLA: TESLA\n",
      "  JEEP: JEEP\n",
      "  CHEVROLET: CHEVROLET\n",
      "  KIA: KIA\n",
      "  ... and 35 more\n",
      "\n",
      "Electric Vehicle Type:\n",
      "  Battery Electric Vehicle (BEV): FullElectric\n",
      "  Plug-in Hybrid Electric Vehicle (PHEV): HybridElectric\n",
      "\n",
      "Electric Range:\n",
      "  Custom function: <lambda>\n",
      "\n",
      "Base MSRP:\n",
      "  Custom function: <lambda>\n",
      "\n",
      "Model Year:\n",
      "  Custom function: <lambda>\n",
      "\n",
      "State:\n",
      "  WA: West\n",
      "  OR: West\n",
      "  CA: West\n",
      "  NV: West\n",
      "  ID: West\n",
      "  ... and 44 more\n"
     ]
    }
   ],
   "source": [
    "# Print the concept hierarchy\n",
    "for attribute, mapping in hierarchy.items():\n",
    "    print(f\"\\n{attribute}:\")\n",
    "    if callable(mapping):\n",
    "        print(f\"  Custom function: {mapping.__name__}\")\n",
    "    else:\n",
    "        for key, value in list(mapping.items())[:5]:  # Print first 5 items as an example\n",
    "            print(f\"  {key}: {value}\")\n",
    "        if len(mapping) > 5:\n",
    "            print(f\"  ... and {len(mapping) - 5} more\")"
   ]
  },
  {
   "cell_type": "code",
   "execution_count": 8,
   "metadata": {},
   "outputs": [
    {
     "name": "stdout",
     "output_type": "stream",
     "text": [
      "Size after generalization: 181458\n"
     ]
    }
   ],
   "source": [
    "def generalize_attributes(data, concept_hierarchy):\n",
    "    generalized_data = data.copy()\n",
    "    for column in data.columns:\n",
    "        if column in concept_hierarchy:\n",
    "            generalized_data[column] = data[column].map(concept_hierarchy[column])\n",
    "    print(\"Size after generalization:\", len(generalized_data))\n",
    "\n",
    "    return generalized_data\n",
    "\n",
    "generalized_data = generalize_attributes(data_reduced, hierarchy)"
   ]
  },
  {
   "cell_type": "code",
   "execution_count": 9,
   "metadata": {},
   "outputs": [
    {
     "data": {
      "text/html": [
       "<div>\n",
       "<style scoped>\n",
       "    .dataframe tbody tr th:only-of-type {\n",
       "        vertical-align: middle;\n",
       "    }\n",
       "\n",
       "    .dataframe tbody tr th {\n",
       "        vertical-align: top;\n",
       "    }\n",
       "\n",
       "    .dataframe thead th {\n",
       "        text-align: right;\n",
       "    }\n",
       "</style>\n",
       "<table border=\"1\" class=\"dataframe\">\n",
       "  <thead>\n",
       "    <tr style=\"text-align: right;\">\n",
       "      <th></th>\n",
       "      <th>Make</th>\n",
       "      <th>Model</th>\n",
       "      <th>Electric Vehicle Type</th>\n",
       "      <th>Electric Range</th>\n",
       "      <th>Base MSRP</th>\n",
       "      <th>Model Year</th>\n",
       "      <th>State</th>\n",
       "    </tr>\n",
       "  </thead>\n",
       "  <tbody>\n",
       "    <tr>\n",
       "      <th>0</th>\n",
       "      <td>AUDI</td>\n",
       "      <td>A3</td>\n",
       "      <td>HybridElectric</td>\n",
       "      <td>ShortRange</td>\n",
       "      <td>Affordable</td>\n",
       "      <td>2010s</td>\n",
       "      <td>West</td>\n",
       "    </tr>\n",
       "    <tr>\n",
       "      <th>1</th>\n",
       "      <td>AUDI</td>\n",
       "      <td>A3</td>\n",
       "      <td>HybridElectric</td>\n",
       "      <td>ShortRange</td>\n",
       "      <td>Affordable</td>\n",
       "      <td>2010s</td>\n",
       "      <td>West</td>\n",
       "    </tr>\n",
       "    <tr>\n",
       "      <th>2</th>\n",
       "      <td>TESLA</td>\n",
       "      <td>MODEL S</td>\n",
       "      <td>FullElectric</td>\n",
       "      <td>LongRange</td>\n",
       "      <td>Affordable</td>\n",
       "      <td>2010s</td>\n",
       "      <td>West</td>\n",
       "    </tr>\n",
       "    <tr>\n",
       "      <th>3</th>\n",
       "      <td>JEEP</td>\n",
       "      <td>WRANGLER</td>\n",
       "      <td>HybridElectric</td>\n",
       "      <td>ShortRange</td>\n",
       "      <td>Affordable</td>\n",
       "      <td>2020s</td>\n",
       "      <td>West</td>\n",
       "    </tr>\n",
       "    <tr>\n",
       "      <th>4</th>\n",
       "      <td>TESLA</td>\n",
       "      <td>MODEL 3</td>\n",
       "      <td>FullElectric</td>\n",
       "      <td>LongRange</td>\n",
       "      <td>Affordable</td>\n",
       "      <td>2020s</td>\n",
       "      <td>West</td>\n",
       "    </tr>\n",
       "  </tbody>\n",
       "</table>\n",
       "</div>"
      ],
      "text/plain": [
       "    Make     Model Electric Vehicle Type Electric Range   Base MSRP  \\\n",
       "0   AUDI        A3        HybridElectric     ShortRange  Affordable   \n",
       "1   AUDI        A3        HybridElectric     ShortRange  Affordable   \n",
       "2  TESLA   MODEL S          FullElectric      LongRange  Affordable   \n",
       "3   JEEP  WRANGLER        HybridElectric     ShortRange  Affordable   \n",
       "4  TESLA   MODEL 3          FullElectric      LongRange  Affordable   \n",
       "\n",
       "  Model Year State  \n",
       "0      2010s  West  \n",
       "1      2010s  West  \n",
       "2      2010s  West  \n",
       "3      2020s  West  \n",
       "4      2020s  West  "
      ]
     },
     "execution_count": 9,
     "metadata": {},
     "output_type": "execute_result"
    }
   ],
   "source": [
    "generalized_data.head()"
   ]
  },
  {
   "cell_type": "code",
   "execution_count": 16,
   "metadata": {},
   "outputs": [
    {
     "data": {
      "text/html": [
       "<div>\n",
       "<style scoped>\n",
       "    .dataframe tbody tr th:only-of-type {\n",
       "        vertical-align: middle;\n",
       "    }\n",
       "\n",
       "    .dataframe tbody tr th {\n",
       "        vertical-align: top;\n",
       "    }\n",
       "\n",
       "    .dataframe thead th {\n",
       "        text-align: right;\n",
       "    }\n",
       "</style>\n",
       "<table border=\"1\" class=\"dataframe\">\n",
       "  <thead>\n",
       "    <tr style=\"text-align: right;\">\n",
       "      <th></th>\n",
       "      <th>Make</th>\n",
       "      <th>Model</th>\n",
       "      <th>Electric Vehicle Type</th>\n",
       "      <th>Electric Range</th>\n",
       "      <th>Base MSRP</th>\n",
       "      <th>Model Year</th>\n",
       "      <th>State</th>\n",
       "      <th>Count</th>\n",
       "    </tr>\n",
       "  </thead>\n",
       "  <tbody>\n",
       "    <tr>\n",
       "      <th>275</th>\n",
       "      <td>TESLA</td>\n",
       "      <td>MODEL Y</td>\n",
       "      <td>FullElectric</td>\n",
       "      <td>ShortRange</td>\n",
       "      <td>Affordable</td>\n",
       "      <td>2020s</td>\n",
       "      <td>West</td>\n",
       "      <td>34598</td>\n",
       "    </tr>\n",
       "    <tr>\n",
       "      <th>248</th>\n",
       "      <td>TESLA</td>\n",
       "      <td>MODEL 3</td>\n",
       "      <td>FullElectric</td>\n",
       "      <td>ShortRange</td>\n",
       "      <td>Affordable</td>\n",
       "      <td>2020s</td>\n",
       "      <td>West</td>\n",
       "      <td>16323</td>\n",
       "    </tr>\n",
       "    <tr>\n",
       "      <th>240</th>\n",
       "      <td>TESLA</td>\n",
       "      <td>MODEL 3</td>\n",
       "      <td>FullElectric</td>\n",
       "      <td>LongRange</td>\n",
       "      <td>Affordable</td>\n",
       "      <td>2010s</td>\n",
       "      <td>West</td>\n",
       "      <td>10174</td>\n",
       "    </tr>\n",
       "    <tr>\n",
       "      <th>207</th>\n",
       "      <td>NISSAN</td>\n",
       "      <td>LEAF</td>\n",
       "      <td>FullElectric</td>\n",
       "      <td>ShortRange</td>\n",
       "      <td>Affordable</td>\n",
       "      <td>2010s</td>\n",
       "      <td>West</td>\n",
       "      <td>6633</td>\n",
       "    </tr>\n",
       "    <tr>\n",
       "      <th>75</th>\n",
       "      <td>CHEVROLET</td>\n",
       "      <td>VOLT</td>\n",
       "      <td>HybridElectric</td>\n",
       "      <td>ShortRange</td>\n",
       "      <td>Affordable</td>\n",
       "      <td>2010s</td>\n",
       "      <td>West</td>\n",
       "      <td>4789</td>\n",
       "    </tr>\n",
       "  </tbody>\n",
       "</table>\n",
       "</div>"
      ],
      "text/plain": [
       "          Make    Model Electric Vehicle Type Electric Range   Base MSRP  \\\n",
       "275      TESLA  MODEL Y          FullElectric     ShortRange  Affordable   \n",
       "248      TESLA  MODEL 3          FullElectric     ShortRange  Affordable   \n",
       "240      TESLA  MODEL 3          FullElectric      LongRange  Affordable   \n",
       "207     NISSAN     LEAF          FullElectric     ShortRange  Affordable   \n",
       "75   CHEVROLET     VOLT        HybridElectric     ShortRange  Affordable   \n",
       "\n",
       "    Model Year State  Count  \n",
       "275      2020s  West  34598  \n",
       "248      2020s  West  16323  \n",
       "240      2010s  West  10174  \n",
       "207      2010s  West   6633  \n",
       "75       2010s  West   4789  "
      ]
     },
     "execution_count": 16,
     "metadata": {},
     "output_type": "execute_result"
    }
   ],
   "source": [
    "# performing group by on the generalized data\n",
    "grouped_data = generalized_data.groupby(['Make', 'Model', 'Electric Vehicle Type', 'Electric Range', 'Base MSRP', 'Model Year', \"State\"]).size().reset_index(name='Count')\n",
    "grouped_data = grouped_data.sort_values(by='Count', ascending=False)\n",
    "grouped_data.head()"
   ]
  },
  {
   "cell_type": "code",
   "execution_count": 19,
   "metadata": {},
   "outputs": [
    {
     "data": {
      "text/html": [
       "<div>\n",
       "<style scoped>\n",
       "    .dataframe tbody tr th:only-of-type {\n",
       "        vertical-align: middle;\n",
       "    }\n",
       "\n",
       "    .dataframe tbody tr th {\n",
       "        vertical-align: top;\n",
       "    }\n",
       "\n",
       "    .dataframe thead th {\n",
       "        text-align: right;\n",
       "    }\n",
       "</style>\n",
       "<table border=\"1\" class=\"dataframe\">\n",
       "  <thead>\n",
       "    <tr style=\"text-align: right;\">\n",
       "      <th></th>\n",
       "      <th>Make</th>\n",
       "      <th>Count</th>\n",
       "    </tr>\n",
       "  </thead>\n",
       "  <tbody>\n",
       "    <tr>\n",
       "      <th>34</th>\n",
       "      <td>TESLA</td>\n",
       "      <td>80819</td>\n",
       "    </tr>\n",
       "    <tr>\n",
       "      <th>27</th>\n",
       "      <td>NISSAN</td>\n",
       "      <td>14037</td>\n",
       "    </tr>\n",
       "    <tr>\n",
       "      <th>6</th>\n",
       "      <td>CHEVROLET</td>\n",
       "      <td>13864</td>\n",
       "    </tr>\n",
       "    <tr>\n",
       "      <th>11</th>\n",
       "      <td>FORD</td>\n",
       "      <td>9527</td>\n",
       "    </tr>\n",
       "    <tr>\n",
       "      <th>4</th>\n",
       "      <td>BMW</td>\n",
       "      <td>7680</td>\n",
       "    </tr>\n",
       "  </tbody>\n",
       "</table>\n",
       "</div>"
      ],
      "text/plain": [
       "         Make  Count\n",
       "34      TESLA  80819\n",
       "27     NISSAN  14037\n",
       "6   CHEVROLET  13864\n",
       "11       FORD   9527\n",
       "4         BMW   7680"
      ]
     },
     "execution_count": 19,
     "metadata": {},
     "output_type": "execute_result"
    }
   ],
   "source": [
    "# group by make and count the number of vehicles\n",
    "grouped_data_make = generalized_data.groupby(['Make']).size().reset_index(name='Count')\n",
    "grouped_data_make = grouped_data_make.sort_values(by=['Count'], ascending=False)\n",
    "grouped_data_make.head()"
   ]
  },
  {
   "cell_type": "code",
   "execution_count": 20,
   "metadata": {},
   "outputs": [
    {
     "name": "stderr",
     "output_type": "stream",
     "text": [
      "/usr/lib/python3/dist-packages/scipy/__init__.py:146: UserWarning: A NumPy version >=1.17.3 and <1.25.0 is required for this version of SciPy (detected version 1.26.4\n",
      "  warnings.warn(f\"A NumPy version >={np_minversion} and <{np_maxversion}\"\n"
     ]
    },
    {
     "data": {
      "image/png": "[encoded data removed]",
      "text/plain": [
       "<Figure size 1000x600 with 1 Axes>"
      ]
     },
     "metadata": {},
     "output_type": "display_data"
    }
   ],
   "source": [
    "# visualising the data\n",
    "\n",
    "plt.figure(figsize=(10, 6))\n",
    "sns.barplot(x='Count', y='Make', data=grouped_data_make.head(10))\n",
    "plt.title('Top 10 Makes of Electric Vehicles')\n",
    "plt.xlabel('Number of Vehicles')\n",
    "plt.ylabel('Make')\n",
    "plt.show()\n"
   ]
  },
  {
   "cell_type": "code",
   "execution_count": 22,
   "metadata": {},
   "outputs": [
    {
     "data": {
      "text/html": [
       "<div>\n",
       "<style scoped>\n",
       "    .dataframe tbody tr th:only-of-type {\n",
       "        vertical-align: middle;\n",
       "    }\n",
       "\n",
       "    .dataframe tbody tr th {\n",
       "        vertical-align: top;\n",
       "    }\n",
       "\n",
       "    .dataframe thead th {\n",
       "        text-align: right;\n",
       "    }\n",
       "</style>\n",
       "<table border=\"1\" class=\"dataframe\">\n",
       "  <thead>\n",
       "    <tr style=\"text-align: right;\">\n",
       "      <th></th>\n",
       "      <th>Electric Vehicle Type</th>\n",
       "      <th>State</th>\n",
       "      <th>Count</th>\n",
       "    </tr>\n",
       "  </thead>\n",
       "  <tbody>\n",
       "    <tr>\n",
       "      <th>3</th>\n",
       "      <td>FullElectric</td>\n",
       "      <td>West</td>\n",
       "      <td>141813</td>\n",
       "    </tr>\n",
       "    <tr>\n",
       "      <th>7</th>\n",
       "      <td>HybridElectric</td>\n",
       "      <td>West</td>\n",
       "      <td>39401</td>\n",
       "    </tr>\n",
       "    <tr>\n",
       "      <th>2</th>\n",
       "      <td>FullElectric</td>\n",
       "      <td>South</td>\n",
       "      <td>84</td>\n",
       "    </tr>\n",
       "    <tr>\n",
       "      <th>6</th>\n",
       "      <td>HybridElectric</td>\n",
       "      <td>South</td>\n",
       "      <td>46</td>\n",
       "    </tr>\n",
       "    <tr>\n",
       "      <th>1</th>\n",
       "      <td>FullElectric</td>\n",
       "      <td>Northeast</td>\n",
       "      <td>41</td>\n",
       "    </tr>\n",
       "  </tbody>\n",
       "</table>\n",
       "</div>"
      ],
      "text/plain": [
       "  Electric Vehicle Type      State   Count\n",
       "3          FullElectric       West  141813\n",
       "7        HybridElectric       West   39401\n",
       "2          FullElectric      South      84\n",
       "6        HybridElectric      South      46\n",
       "1          FullElectric  Northeast      41"
      ]
     },
     "execution_count": 22,
     "metadata": {},
     "output_type": "execute_result"
    }
   ],
   "source": [
    "# grouping by electric vehicle type and count based on state\n",
    "grouped_data_type = generalized_data.groupby(['Electric Vehicle Type', 'State']).size().reset_index(name='Count')\n",
    "grouped_data_type = grouped_data_type.sort_values(by=['Count'], ascending=False)\n",
    "grouped_data_type.head()\n"
   ]
  },
  {
   "cell_type": "code",
   "execution_count": 24,
   "metadata": {},
   "outputs": [
    {
     "data": {
      "image/png": "[encoded data removed]",
      "text/plain": [
       "<Figure size 1000x600 with 1 Axes>"
      ]
     },
     "metadata": {},
     "output_type": "display_data"
    }
   ],
   "source": [
    "# plotting the data\n",
    "plt.figure(figsize=(10, 6))\n",
    "sns.barplot(x='Count', y='State', hue='Electric Vehicle Type', data=grouped_data_type)\n",
    "plt.title('Electric Vehicle Types in Different States')\n",
    "plt.xlabel('Number of Vehicles')\n",
    "plt.ylabel('State')\n",
    "plt.xscale('log')\n",
    "plt.show()\n"
   ]
  },
  {
   "cell_type": "code",
   "execution_count": 25,
   "metadata": {},
   "outputs": [
    {
     "data": {
      "text/html": [
       "<div>\n",
       "<style scoped>\n",
       "    .dataframe tbody tr th:only-of-type {\n",
       "        vertical-align: middle;\n",
       "    }\n",
       "\n",
       "    .dataframe tbody tr th {\n",
       "        vertical-align: top;\n",
       "    }\n",
       "\n",
       "    .dataframe thead th {\n",
       "        text-align: right;\n",
       "    }\n",
       "</style>\n",
       "<table border=\"1\" class=\"dataframe\">\n",
       "  <thead>\n",
       "    <tr style=\"text-align: right;\">\n",
       "      <th></th>\n",
       "      <th>Electric Range</th>\n",
       "      <th>Base MSRP</th>\n",
       "      <th>Count</th>\n",
       "    </tr>\n",
       "  </thead>\n",
       "  <tbody>\n",
       "    <tr>\n",
       "      <th>4</th>\n",
       "      <td>ShortRange</td>\n",
       "      <td>Affordable</td>\n",
       "      <td>142000</td>\n",
       "    </tr>\n",
       "    <tr>\n",
       "      <th>0</th>\n",
       "      <td>LongRange</td>\n",
       "      <td>Affordable</td>\n",
       "      <td>29637</td>\n",
       "    </tr>\n",
       "    <tr>\n",
       "      <th>2</th>\n",
       "      <td>MediumRange</td>\n",
       "      <td>Affordable</td>\n",
       "      <td>6509</td>\n",
       "    </tr>\n",
       "    <tr>\n",
       "      <th>1</th>\n",
       "      <td>LongRange</td>\n",
       "      <td>HighEnd</td>\n",
       "      <td>1523</td>\n",
       "    </tr>\n",
       "    <tr>\n",
       "      <th>6</th>\n",
       "      <td>ShortRange</td>\n",
       "      <td>MidRange</td>\n",
       "      <td>1039</td>\n",
       "    </tr>\n",
       "  </tbody>\n",
       "</table>\n",
       "</div>"
      ],
      "text/plain": [
       "  Electric Range   Base MSRP   Count\n",
       "4     ShortRange  Affordable  142000\n",
       "0      LongRange  Affordable   29637\n",
       "2    MediumRange  Affordable    6509\n",
       "1      LongRange     HighEnd    1523\n",
       "6     ShortRange    MidRange    1039"
      ]
     },
     "execution_count": 25,
     "metadata": {},
     "output_type": "execute_result"
    }
   ],
   "source": [
    "# grouping by electric range and price \n",
    "grouped_data_range = generalized_data.groupby(['Electric Range', 'Base MSRP']).size().reset_index(name='Count')\n",
    "grouped_data_range = grouped_data_range.sort_values(by=['Count'], ascending=False)\n",
    "grouped_data_range.head()"
   ]
  },
  {
   "cell_type": "code",
   "execution_count": 26,
   "metadata": {},
   "outputs": [
    {
     "data": {
      "image/png": "[encoded data removed]",
      "text/plain": [
       "<Figure size 1000x600 with 1 Axes>"
      ]
     },
     "metadata": {},
     "output_type": "display_data"
    }
   ],
   "source": [
    "#  visualising the data\n",
    "plt.figure(figsize=(10, 6))\n",
    "sns.barplot(x='Count', y='Electric Range', hue='Base MSRP', data=grouped_data_range)\n",
    "plt.title('Electric Vehicle Ranges and Prices')\n",
    "plt.xlabel('Number of Vehicles')\n",
    "plt.ylabel('Electric Range')\n",
    "plt.xscale('log')\n",
    "plt.show()\n"
   ]
  },
  {
   "cell_type": "code",
   "execution_count": 29,
   "metadata": {},
   "outputs": [
    {
     "data": {
      "text/html": [
       "<div>\n",
       "<style scoped>\n",
       "    .dataframe tbody tr th:only-of-type {\n",
       "        vertical-align: middle;\n",
       "    }\n",
       "\n",
       "    .dataframe tbody tr th {\n",
       "        vertical-align: top;\n",
       "    }\n",
       "\n",
       "    .dataframe thead th {\n",
       "        text-align: right;\n",
       "    }\n",
       "</style>\n",
       "<table border=\"1\" class=\"dataframe\">\n",
       "  <thead>\n",
       "    <tr style=\"text-align: right;\">\n",
       "      <th></th>\n",
       "      <th>Model Year</th>\n",
       "      <th>Make</th>\n",
       "      <th>Model</th>\n",
       "      <th>Count</th>\n",
       "    </tr>\n",
       "  </thead>\n",
       "  <tbody>\n",
       "    <tr>\n",
       "      <th>164</th>\n",
       "      <td>2020s</td>\n",
       "      <td>TESLA</td>\n",
       "      <td>MODEL Y</td>\n",
       "      <td>37007</td>\n",
       "    </tr>\n",
       "    <tr>\n",
       "      <th>161</th>\n",
       "      <td>2020s</td>\n",
       "      <td>TESLA</td>\n",
       "      <td>MODEL 3</td>\n",
       "      <td>19953</td>\n",
       "    </tr>\n",
       "    <tr>\n",
       "      <th>52</th>\n",
       "      <td>2010s</td>\n",
       "      <td>TESLA</td>\n",
       "      <td>MODEL 3</td>\n",
       "      <td>10197</td>\n",
       "    </tr>\n",
       "    <tr>\n",
       "      <th>44</th>\n",
       "      <td>2010s</td>\n",
       "      <td>NISSAN</td>\n",
       "      <td>LEAF</td>\n",
       "      <td>10121</td>\n",
       "    </tr>\n",
       "    <tr>\n",
       "      <th>53</th>\n",
       "      <td>2010s</td>\n",
       "      <td>TESLA</td>\n",
       "      <td>MODEL S</td>\n",
       "      <td>5588</td>\n",
       "    </tr>\n",
       "  </tbody>\n",
       "</table>\n",
       "</div>"
      ],
      "text/plain": [
       "    Model Year    Make    Model  Count\n",
       "164      2020s   TESLA  MODEL Y  37007\n",
       "161      2020s   TESLA  MODEL 3  19953\n",
       "52       2010s   TESLA  MODEL 3  10197\n",
       "44       2010s  NISSAN     LEAF  10121\n",
       "53       2010s   TESLA  MODEL S   5588"
      ]
     },
     "execution_count": 29,
     "metadata": {},
     "output_type": "execute_result"
    }
   ],
   "source": [
    "# grouping by model year, model and make\n",
    "grouped_data_year = generalized_data.groupby(['Model Year', 'Make', 'Model']).size().reset_index(name='Count')\n",
    "grouped_data_year = grouped_data_year.sort_values(by=['Count'], ascending=False)\n",
    "grouped_data_year.head()\n"
   ]
  },
  {
   "cell_type": "code",
   "execution_count": 40,
   "metadata": {},
   "outputs": [
    {
     "data": {
      "image/png": "[encoded data removed]",
      "text/plain": [
       "<Figure size 1000x600 with 1 Axes>"
      ]
     },
     "metadata": {},
     "output_type": "display_data"
    }
   ],
   "source": [
    "plt.figure(figsize=(10, 6))\n",
    "sns.barplot(x='Count', y='Model Year', hue='Make', data=grouped_data_year.head(50), errorbar=None)\n",
    "plt.title('Top 10 Makes of Electric Vehicles by Model Year')\n",
    "plt.xlabel('Number of Vehicles')\n",
    "plt.xscale('log')\n",
    "plt.ylabel('Model Year')\n",
    "plt.show()"
   ]
  },
  {
   "cell_type": "code",
   "execution_count": 52,
   "metadata": {},
   "outputs": [
    {
     "data": {
      "image/png": "[encoded data removed]",
      "text/plain": [
       "<Figure size 1200x600 with 1 Axes>"
      ]
     },
     "metadata": {},
     "output_type": "display_data"
    }
   ],
   "source": [
    "state_count = generalized_data.groupby('State').size().sort_values(ascending=False).reset_index(name='Count')\n",
    "plt.figure(figsize=(12, 6))\n",
    "sns.barplot(x='State', y='Count', data=state_count.head(10))\n",
    "plt.title('Top 10 States by Electric Vehicle Count')\n",
    "plt.xticks(rotation=45)\n",
    "plt.yscale('log')\n",
    "plt.show()"
   ]
  },
  {
   "cell_type": "code",
   "execution_count": 12,
   "metadata": {},
   "outputs": [],
   "source": [
    "# from collections import Counter\n",
    "\n",
    "\n",
    "# def attribute_oriented_induction(data, concept_hierarchy):\n",
    "\n",
    "\n",
    "#     # Step 2: Perform attribute-oriented induction\n",
    "#     generalized_data = generalize_attributes(data, concept_hierarchy)\n",
    "\n",
    "#     # Step 3: Simplify the generalized relation\n",
    "#     # simplified_data = simplify_relation(generalized_data)\n",
    "#     # characteristic_rules = extract_rules(simplified_data)\n",
    "\n",
    "#     return characteristic_rules, simplified_data\n",
    "\n",
    "# def generalize_attributes(data, concept_hierarchy):\n",
    "#     generalized_data = data.copy()\n",
    "#     for column in data.columns:\n",
    "#         if column in concept_hierarchy:\n",
    "#             generalized_data[column] = data[column].map(concept_hierarchy[column])\n",
    "#     print(\"Size after generalization:\", len(generalized_data))\n",
    "\n",
    "#     return generalized_data\n",
    "\n",
    "# # def simplify_relation(data):\n",
    "# #     # group by all columns except the last one\n",
    "# #     grouped = data.groupby(data.columns[:-1].tolist(), as_index=False).agg({data.columns[-1]: set})\n",
    "# #     simplified = grouped.copy()\n",
    "\n",
    "# #     for column in data.columns[:-1]:\n",
    "# #         if len(grouped[column].unique()) == 1:\n",
    "# #             simplified = simplified.drop(column, axis=1)\n",
    "\n",
    "# #     print(\"Size after simplification:\", len(simplified))\n",
    "\n",
    "# #     return simplified\n",
    "\n",
    "# # def extract_rules(data, min_support=0.1, min_confidence=0.7):\n",
    "# #     total_records = len(data)\n",
    "# #     rules = []\n",
    "\n",
    "# #     for column in data.columns[:-1]:  # Exclude the last column (which contains sets of values)\n",
    "# #         value_counts = Counter(data[column])\n",
    "        \n",
    "# #         for value, count in value_counts.items():\n",
    "# #             support = count / total_records\n",
    "# #             if support >= min_support:\n",
    "# #                 consequent_counts = Counter([item for items in data[data[column] == value][data.columns[-1]] for item in items])\n",
    "                \n",
    "# #                 for consequent, consequent_count in consequent_counts.items():\n",
    "# #                     confidence = consequent_count / count\n",
    "# #                     if confidence >= min_confidence:\n",
    "# #                         rule = f\"If {column} is {value}, then {data.columns[-1]} is likely to be {consequent}\"\n",
    "# #                         rules.append((rule, support, confidence))\n",
    "\n",
    "# #     return rules\n",
    "\n",
    "# # characteristic_rules, simplified_data = attribute_oriented_induction(data_reduced, hierarchy)\n",
    "\n",
    "# print(\"Characteristic Rules:\")\n",
    "# for rule in characteristic_rules:\n",
    "#     print(rule)"
   ]
  },
  {
   "cell_type": "code",
   "execution_count": null,
   "metadata": {},
   "outputs": [],
   "source": []
  },
  {
   "cell_type": "code",
   "execution_count": 13,
   "metadata": {},
   "outputs": [],
   "source": [
    "\n",
    "# def simplify_relation(data):\n",
    "#     # group by all columns except the last one\n",
    "#     grouped = data.groupby(data.columns[:-1].tolist(), as_index=False).agg({data.columns[-1]: set})\n",
    "#     simplified = grouped.copy()\n",
    "\n",
    "#     for column in data.columns[:-1]:\n",
    "#         if len(grouped[column].unique()) == 1:\n",
    "#             simplified = simplified.drop(column, axis=1)\n",
    "\n",
    "#     print(\"Size after simplification:\", len(simplified))\n",
    "\n",
    "    # return simplified\n",
    "\n",
    "# def extract_rules(data, min_support=0.1, min_confidence=0.7):\n",
    "#     total_records = len(data)\n",
    "#     rules = []\n",
    "\n",
    "#     for column in data.columns[:-1]:  # Exclude the last column (which contains sets of values)\n",
    "#         value_counts = Counter(data[column])\n",
    "        \n",
    "#         for value, count in value_counts.items():\n",
    "#             support = count / total_records\n",
    "#             if support >= min_support:\n",
    "#                 consequent_counts = Counter([item for items in data[data[column] == value][data.columns[-1]] for item in items])\n",
    "                \n",
    "#                 for consequent, consequent_count in consequent_counts.items():\n",
    "#                     confidence = consequent_count / count\n",
    "#                     if confidence >= min_confidence:\n",
    "#                         rule = f\"If {column} is {value}, then {data.columns[-1]} is likely to be {consequent}\"\n",
    "#                         rules.append((rule, support, confidence))\n",
    "\n",
    "#     return rules\n"
   ]
  },
  {
   "cell_type": "code",
   "execution_count": 14,
   "metadata": {},
   "outputs": [
    {
     "ename": "NameError",
     "evalue": "name 'simplified_data' is not defined",
     "output_type": "error",
     "traceback": [
      "\u001b[0;31m---------------------------------------------------------------------------\u001b[0m",
      "\u001b[0;31mNameError\u001b[0m                                 Traceback (most recent call last)",
      "\u001b[1;32m/home/muskan/Desktop/monsoon24/DA/data-analytics-1-assignments/a2/assignment2 51/assignment2 51.ipynb Cell 16\u001b[0m line \u001b[0;36m1\n\u001b[0;32m----> <a href='vscode-notebook-cell:/home/muskan/Desktop/monsoon24/DA/data-analytics-1-assignments/a2/assignment2%2051/assignment2%2051.ipynb#X15sZmlsZQ%3D%3D?line=0'>1</a>\u001b[0m simplified_data\u001b[39m.\u001b[39mhead()\n",
      "\u001b[0;31mNameError\u001b[0m: name 'simplified_data' is not defined"
     ]
    }
   ],
   "source": [
    "simplified_data.head()"
   ]
  },
  {
   "cell_type": "code",
   "execution_count": null,
   "metadata": {},
   "outputs": [],
   "source": [
    "# grouping by make and counting number of electric vehicles\n",
    "make_counts = simplified_data.groupby('Make').size()\n",
    "# sorting the values\n",
    "make_counts = make_counts.sort_values(ascending=False)\n",
    "# printing top 10\n",
    "make_counts.head(10)\n"
   ]
  },
  {
   "cell_type": "code",
   "execution_count": null,
   "metadata": {},
   "outputs": [],
   "source": [
    "# plotting the top 10 makes\n",
    "import matplotlib.pyplot as plt\n",
    "\n",
    "plt.figure(figsize=(10, 6))\n",
    "make_counts.head(10).plot(kind='bar', color='skyblue')\n",
    "plt.title('Top 10 Electric Vehicle Makes')\n",
    "plt.xlabel('Make')\n",
    "plt.ylabel('Number of Electric Vehicles')\n",
    "plt.show()\n"
   ]
  },
  {
   "cell_type": "code",
   "execution_count": null,
   "metadata": {},
   "outputs": [],
   "source": [
    "import matplotlib.pyplot as plt\n",
    "import seaborn as sns\n",
    "\n",
    "def create_visualizations(simplified_data):\n",
    "    # Set the style for all plots\n",
    "    plt.style.use('seaborn')\n",
    "    \n",
    "    # Create a figure with subplots\n",
    "    fig, axs = plt.subplots(2, 3, figsize=(20, 15))\n",
    "    fig.suptitle('Attribute-Oriented Induction Results', fontsize=16)\n",
    "    \n",
    "    # Flatten the axs array for easier indexing\n",
    "    axs = axs.flatten()\n",
    "    \n",
    "    # List of columns to visualize\n",
    "    columns_to_plot = ['Make', 'Electric Vehicle Type', 'Electric Range', 'Base MSRP', 'Model Year', 'State']\n",
    "    \n",
    "    for i, column in enumerate(columns_to_plot):\n",
    "        # Count the occurrences of each category\n",
    "        counts = simplified_data[column].value_counts()\n",
    "        \n",
    "        # Create a bar plot\n",
    "        sns.barplot(x=counts.index, y=counts.values, ax=axs[i])\n",
    "        \n",
    "        # Customize the subplot\n",
    "        axs[i].set_title(f'Distribution of {column}')\n",
    "        axs[i].set_xlabel(column)\n",
    "        axs[i].set_ylabel('Count')\n",
    "        \n",
    "        # Rotate x-axis labels if there are many categories\n",
    "        if len(counts) > 5:\n",
    "            axs[i].set_xticklabels(axs[i].get_xticklabels(), rotation=45, ha='right')\n",
    "    \n",
    "    # Adjust the layout and display the plot\n",
    "    plt.tight_layout()\n",
    "    plt.show()\n",
    "\n",
    "# Call the function with your simplified data\n",
    "create_visualizations(simplified_data)"
   ]
  },
  {
   "cell_type": "markdown",
   "metadata": {},
   "source": [
    "\n",
    "# Generalizing the rules\n",
    "generalize_rules(rules)\n",
    "print('Generalized rules:')\n",
    "generate_rules(rules)\n",
    "\n",
    "# Removing attributes\n",
    "remove_attributes(rules, 'Vehicle')\n",
    "print('Removed attributes:')\n",
    "generate_rules(rules)\n",
    "\n",
    "# Generating rules\n",
    "print('Generated rules:')\n",
    "generate_rules(rules)\n",
    "\n",
    "# Evaluating the rules\n",
    "print('Evaluated rules:')\n",
    "evaluate_rules(rules)\n",
    "\n",
    "# Extracting rules\n",
    "rules = extract_rules(extract_data('Electric_Vehicle_Data.csv'))\n",
    "print('Extracted rules:')\n",
    "generate_rules(rules)\n"
   ]
  }
 ],
 "metadata": {
  "kernelspec": {
   "display_name": "Python 3",
   "language": "python",
   "name": "python3"
  },
  "language_info": {
   "codemirror_mode": {
    "name": "ipython",
    "version": 3
   },
   "file_extension": ".py",
   "mimetype": "text/x-python",
   "name": "python",
   "nbconvert_exporter": "python",
   "pygments_lexer": "ipython3",
   "version": "3.10.12"
  }
 },
 "nbformat": 4,
 "nbformat_minor": 2
}
