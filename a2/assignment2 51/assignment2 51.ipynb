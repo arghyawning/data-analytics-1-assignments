{
 "cells": [
  {
   "cell_type": "markdown",
   "metadata": {},
   "source": [
    "# Data Analytics I: Assignment 2"
   ]
  },
  {
   "cell_type": "markdown",
   "metadata": {},
   "source": [
    "### Mid Submission Report\n",
    "\n",
    "- [X] Extracted and Cleaned Data\n",
    "- [X] AOI Implementation\n",
    "- [X] AOI Visualisations"
   ]
  },
  {
   "cell_type": "markdown",
   "metadata": {},
   "source": [
    "Imports"
   ]
  },
  {
   "cell_type": "code",
   "execution_count": 1,
   "metadata": {},
   "outputs": [],
   "source": [
    "import numpy as np\n",
    "import pandas as pd\n",
    "import matplotlib.pyplot as plt\n",
    "import seaborn as sns"
   ]
  },
  {
   "cell_type": "markdown",
   "metadata": {},
   "source": [
    "Extracting data from csv"
   ]
  },
  {
   "cell_type": "code",
   "execution_count": 2,
   "metadata": {},
   "outputs": [],
   "source": [
    "def extract_data(file):\n",
    "    data = pd.read_csv(file)\n",
    "    return data\n",
    "\n",
    "data = extract_data('Electric_Vehicle_Data.csv')"
   ]
  },
  {
   "cell_type": "code",
   "execution_count": 3,
   "metadata": {},
   "outputs": [
    {
     "data": {
      "text/plain": [
       "Index(['VIN (1-10)', 'County', 'City', 'State', 'Postal Code', 'Model Year',\n",
       "       'Make', 'Model', 'Electric Vehicle Type',\n",
       "       'Clean Alternative Fuel Vehicle (CAFV) Eligibility', 'Electric Range',\n",
       "       'Base MSRP', 'Legislative District', 'DOL Vehicle ID',\n",
       "       'Vehicle Location', 'Electric Utility', '2020 Census Tract'],\n",
       "      dtype='object')"
      ]
     },
     "execution_count": 3,
     "metadata": {},
     "output_type": "execute_result"
    }
   ],
   "source": [
    "data.columns"
   ]
  },
  {
   "cell_type": "markdown",
   "metadata": {},
   "source": [
    "Using only the relevant columns"
   ]
  },
  {
   "cell_type": "code",
   "execution_count": 4,
   "metadata": {},
   "outputs": [],
   "source": [
    "\n",
    "data_reduced = data[\n",
    "    [\n",
    "        \"Make\",\n",
    "        \"Model\",\n",
    "        \"Electric Vehicle Type\",\n",
    "        \"Electric Range\",\n",
    "        \"Base MSRP\",\n",
    "        \"Model Year\",\n",
    "        \"State\",\n",
    "        \"Clean Alternative Fuel Vehicle (CAFV) Eligibility\",\n",
    "    ]\n",
    "]"
   ]
  },
  {
   "cell_type": "code",
   "execution_count": 5,
   "metadata": {},
   "outputs": [
    {
     "data": {
      "text/plain": [
       "0         178146\n",
       "69900       1346\n",
       "31950        382\n",
       "52900        221\n",
       "32250        134\n",
       "59900        130\n",
       "54950        129\n",
       "39995        111\n",
       "36900        104\n",
       "44100         94\n",
       "45600         82\n",
       "64950         82\n",
       "33950         74\n",
       "34995         66\n",
       "52650         65\n",
       "36800         54\n",
       "55700         51\n",
       "53400         38\n",
       "81100         22\n",
       "98950         20\n",
       "110950        20\n",
       "90700         19\n",
       "75095         14\n",
       "102000        11\n",
       "184400        10\n",
       "43700          9\n",
       "89100          8\n",
       "109000         7\n",
       "91250          5\n",
       "32995          3\n",
       "845000         1\n",
       "Name: Base MSRP, dtype: int64"
      ]
     },
     "execution_count": 5,
     "metadata": {},
     "output_type": "execute_result"
    }
   ],
   "source": [
    "data_reduced[\"Electric Range\"].value_counts()\n",
    "data_reduced[\"Base MSRP\"].value_counts()"
   ]
  },
  {
   "cell_type": "markdown",
   "metadata": {},
   "source": [
    "Filling up zero values in `Electric Range` and `Base MSRP` columns:\n",
    "\n",
    "- Each zero has been replaced with the mean of non-zero values from rows with the same `Make` and `Model`.\n",
    "\n",
    "- If there are no non-zero values for the specific `Make` and `Model`, the zero has been replaced with the median of non-zero values for the same `Make`.\n",
    "\n",
    "- If neither group exists, it has been replaced with the overall median of non-zero values in the entire column.\n",
    "\n",
    "All replacement values are rounded to the nearest integer to maintain consistency in the data."
   ]
  },
  {
   "cell_type": "code",
   "execution_count": 6,
   "metadata": {},
   "outputs": [],
   "source": [
    "def replace_zeros_with_mean(df, group_columns, target_column):\n",
    "    overall_median = df[df[target_column] != 0][target_column].median()\n",
    "\n",
    "    mean_make_model = (\n",
    "        df[df[target_column] != 0]\n",
    "        .groupby(group_columns)[target_column]\n",
    "        .mean()\n",
    "        .reset_index()\n",
    "    )\n",
    "\n",
    "    median_make = (\n",
    "        df[df[target_column] != 0]\n",
    "        .groupby(group_columns[0])[target_column]\n",
    "        .median()\n",
    "        .reset_index()\n",
    "    )\n",
    "\n",
    "    df = df.merge(\n",
    "        mean_make_model, on=group_columns, how=\"left\", suffixes=(\"\", \"_mean_make_model\")\n",
    "    )\n",
    "    df = df.merge(\n",
    "        median_make, on=group_columns[0], how=\"left\", suffixes=(\"\", \"_median_make\")\n",
    "    )\n",
    "\n",
    "    df[target_column] = df.apply(\n",
    "        lambda row: (\n",
    "            round(row[f\"{target_column}_mean_make_model\"])\n",
    "            if row[target_column] == 0\n",
    "            and not pd.isna(row[f\"{target_column}_mean_make_model\"])\n",
    "            else (\n",
    "                round(row[f\"{target_column}_median_make\"])\n",
    "                if row[target_column] == 0\n",
    "                and not pd.isna(row[f\"{target_column}_median_make\"])\n",
    "                else (\n",
    "                    round(overall_median)\n",
    "                    if row[target_column] == 0\n",
    "                    else round(row[target_column])\n",
    "                )\n",
    "            )\n",
    "        ),\n",
    "        axis=1,\n",
    "    )\n",
    "\n",
    "    df = df.drop(\n",
    "        columns=[f\"{target_column}_mean_make_model\", f\"{target_column}_median_make\"]\n",
    "    )\n",
    "\n",
    "    return df"
   ]
  },
  {
   "cell_type": "code",
   "execution_count": 7,
   "metadata": {},
   "outputs": [
    {
     "data": {
      "text/plain": [
       "59900     74630\n",
       "69900     74387\n",
       "31950      7431\n",
       "53025      6782\n",
       "69019      6255\n",
       "39995      3059\n",
       "52900      2808\n",
       "64950      1480\n",
       "81100      1025\n",
       "34995       838\n",
       "36900       809\n",
       "75095       434\n",
       "44745       275\n",
       "32250       134\n",
       "184400      132\n",
       "54950       129\n",
       "54349       123\n",
       "102000      112\n",
       "44100        94\n",
       "45600        82\n",
       "33950        74\n",
       "52650        65\n",
       "36866        62\n",
       "36800        54\n",
       "55700        51\n",
       "53400        38\n",
       "110950       20\n",
       "98950        20\n",
       "90700        19\n",
       "43700         9\n",
       "89100         8\n",
       "109000        7\n",
       "91250         5\n",
       "32855         3\n",
       "32995         3\n",
       "845000        1\n",
       "Name: Base MSRP, dtype: int64"
      ]
     },
     "execution_count": 7,
     "metadata": {},
     "output_type": "execute_result"
    }
   ],
   "source": [
    "data_reduced = replace_zeros_with_mean(\n",
    "    data_reduced, [\"Make\", \"Model\"], \"Electric Range\"\n",
    ")\n",
    "data_reduced = replace_zeros_with_mean(data_reduced, [\"Make\", \"Model\"], \"Base MSRP\")\n",
    "\n",
    "\n",
    "data_reduced[\"Electric Range\"].value_counts()\n",
    "data_reduced[\"Base MSRP\"].value_counts()"
   ]
  },
  {
   "cell_type": "code",
   "execution_count": 8,
   "metadata": {},
   "outputs": [
    {
     "data": {
      "text/html": [
       "<div>\n",
       "<style scoped>\n",
       "    .dataframe tbody tr th:only-of-type {\n",
       "        vertical-align: middle;\n",
       "    }\n",
       "\n",
       "    .dataframe tbody tr th {\n",
       "        vertical-align: top;\n",
       "    }\n",
       "\n",
       "    .dataframe thead th {\n",
       "        text-align: right;\n",
       "    }\n",
       "</style>\n",
       "<table border=\"1\" class=\"dataframe\">\n",
       "  <thead>\n",
       "    <tr style=\"text-align: right;\">\n",
       "      <th></th>\n",
       "      <th>Make</th>\n",
       "      <th>Model</th>\n",
       "      <th>Electric Vehicle Type</th>\n",
       "      <th>Electric Range</th>\n",
       "      <th>Base MSRP</th>\n",
       "      <th>Model Year</th>\n",
       "      <th>State</th>\n",
       "      <th>Clean Alternative Fuel Vehicle (CAFV) Eligibility</th>\n",
       "    </tr>\n",
       "  </thead>\n",
       "  <tbody>\n",
       "    <tr>\n",
       "      <th>0</th>\n",
       "      <td>AUDI</td>\n",
       "      <td>A3</td>\n",
       "      <td>Plug-in Hybrid Electric Vehicle (PHEV)</td>\n",
       "      <td>16</td>\n",
       "      <td>59900</td>\n",
       "      <td>2017</td>\n",
       "      <td>WA</td>\n",
       "      <td>Not eligible due to low battery range</td>\n",
       "    </tr>\n",
       "    <tr>\n",
       "      <th>1</th>\n",
       "      <td>AUDI</td>\n",
       "      <td>A3</td>\n",
       "      <td>Plug-in Hybrid Electric Vehicle (PHEV)</td>\n",
       "      <td>16</td>\n",
       "      <td>59900</td>\n",
       "      <td>2018</td>\n",
       "      <td>WA</td>\n",
       "      <td>Not eligible due to low battery range</td>\n",
       "    </tr>\n",
       "    <tr>\n",
       "      <th>2</th>\n",
       "      <td>TESLA</td>\n",
       "      <td>MODEL S</td>\n",
       "      <td>Battery Electric Vehicle (BEV)</td>\n",
       "      <td>210</td>\n",
       "      <td>69019</td>\n",
       "      <td>2017</td>\n",
       "      <td>WA</td>\n",
       "      <td>Clean Alternative Fuel Vehicle Eligible</td>\n",
       "    </tr>\n",
       "    <tr>\n",
       "      <th>3</th>\n",
       "      <td>JEEP</td>\n",
       "      <td>WRANGLER</td>\n",
       "      <td>Plug-in Hybrid Electric Vehicle (PHEV)</td>\n",
       "      <td>25</td>\n",
       "      <td>59900</td>\n",
       "      <td>2021</td>\n",
       "      <td>WA</td>\n",
       "      <td>Not eligible due to low battery range</td>\n",
       "    </tr>\n",
       "    <tr>\n",
       "      <th>4</th>\n",
       "      <td>TESLA</td>\n",
       "      <td>MODEL 3</td>\n",
       "      <td>Battery Electric Vehicle (BEV)</td>\n",
       "      <td>308</td>\n",
       "      <td>69900</td>\n",
       "      <td>2020</td>\n",
       "      <td>WA</td>\n",
       "      <td>Clean Alternative Fuel Vehicle Eligible</td>\n",
       "    </tr>\n",
       "  </tbody>\n",
       "</table>\n",
       "</div>"
      ],
      "text/plain": [
       "    Make     Model                   Electric Vehicle Type  Electric Range  \\\n",
       "0   AUDI        A3  Plug-in Hybrid Electric Vehicle (PHEV)              16   \n",
       "1   AUDI        A3  Plug-in Hybrid Electric Vehicle (PHEV)              16   \n",
       "2  TESLA   MODEL S          Battery Electric Vehicle (BEV)             210   \n",
       "3   JEEP  WRANGLER  Plug-in Hybrid Electric Vehicle (PHEV)              25   \n",
       "4  TESLA   MODEL 3          Battery Electric Vehicle (BEV)             308   \n",
       "\n",
       "   Base MSRP  Model Year State  \\\n",
       "0      59900        2017    WA   \n",
       "1      59900        2018    WA   \n",
       "2      69019        2017    WA   \n",
       "3      59900        2021    WA   \n",
       "4      69900        2020    WA   \n",
       "\n",
       "  Clean Alternative Fuel Vehicle (CAFV) Eligibility  \n",
       "0             Not eligible due to low battery range  \n",
       "1             Not eligible due to low battery range  \n",
       "2           Clean Alternative Fuel Vehicle Eligible  \n",
       "3             Not eligible due to low battery range  \n",
       "4           Clean Alternative Fuel Vehicle Eligible  "
      ]
     },
     "execution_count": 8,
     "metadata": {},
     "output_type": "execute_result"
    }
   ],
   "source": [
    "data_reduced.head()"
   ]
  },
  {
   "cell_type": "markdown",
   "metadata": {},
   "source": [
    "Concept Hierarchy"
   ]
  },
  {
   "cell_type": "code",
   "execution_count": 9,
   "metadata": {},
   "outputs": [],
   "source": [
    "def create_concept_hierarchy(data):\n",
    "    concept_hierarchy = {}\n",
    "\n",
    "    makes = data['Make'].unique()\n",
    "    concept_hierarchy['Make'] = {make: make for make in makes}\n",
    "\n",
    "    concept_hierarchy['Electric Vehicle Type'] = {\n",
    "        'Battery Electric Vehicle (BEV)': 'FullElectric',\n",
    "        'Plug-in Hybrid Electric Vehicle (PHEV)': 'HybridElectric'\n",
    "    }\n",
    "\n",
    "    concept_hierarchy['Electric Range'] = lambda x: 'LongRange' if x > 200 else ('MediumRange' if x > 100 else 'ShortRange')\n",
    "\n",
    "    concept_hierarchy['Base MSRP'] = lambda x: 'HighEnd' if x > 50000 else ('MidRange' if x > 30000 else 'Affordable')\n",
    "\n",
    "    concept_hierarchy['Model Year'] = lambda x: str(x // 10 * 10) + 's'  # Generalize to decades\n",
    "\n",
    "    regions = {\n",
    "        'West': ['WA', 'OR', 'CA', 'NV', 'ID', 'MT', 'WY', 'UT', 'CO', 'AZ', 'NM'],\n",
    "        'Midwest': ['ND', 'SD', 'NE', 'KS', 'MN', 'IA', 'MO', 'WI', 'IL', 'IN', 'MI', 'OH'],\n",
    "        'South': ['TX', 'OK', 'AR', 'LA', 'MS', 'AL', 'TN', 'KY', 'WV', 'VA', 'NC', 'SC', 'GA', 'FL'],\n",
    "        'Northeast': ['ME', 'NH', 'VT', 'MA', 'RI', 'CT', 'NY', 'PA', 'NJ', 'DE', 'MD', 'DC']\n",
    "    }\n",
    "    concept_hierarchy['State'] = {state: region for region, states in regions.items() for state in states}\n",
    "\n",
    "    concept_hierarchy['Clean Alternative Fuel Vehicle (CAFV) Eligibility'] = {\n",
    "        'Clean Alternative Fuel Vehicle (CAFV) Eligible': 'Eligible',\n",
    "        'Eligibility unknown as battery range has not been researched': 'Unknown',\n",
    "        'Not eligible': 'NotEligible'\n",
    "    }\n",
    "\n",
    "    return concept_hierarchy\n",
    "\n",
    "hierarchy = create_concept_hierarchy(data_reduced)\n"
   ]
  },
  {
   "cell_type": "code",
   "execution_count": 10,
   "metadata": {},
   "outputs": [
    {
     "name": "stdout",
     "output_type": "stream",
     "text": [
      "\n",
      "Make:\n",
      "  AUDI: AUDI\n",
      "  TESLA: TESLA\n",
      "  JEEP: JEEP\n",
      "  CHEVROLET: CHEVROLET\n",
      "  KIA: KIA\n",
      "  ... and 35 more\n",
      "\n",
      "Electric Vehicle Type:\n",
      "  Battery Electric Vehicle (BEV): FullElectric\n",
      "  Plug-in Hybrid Electric Vehicle (PHEV): HybridElectric\n",
      "\n",
      "Electric Range:\n",
      "  Custom function: <lambda>\n",
      "\n",
      "Base MSRP:\n",
      "  Custom function: <lambda>\n",
      "\n",
      "Model Year:\n",
      "  Custom function: <lambda>\n",
      "\n",
      "State:\n",
      "  WA: West\n",
      "  OR: West\n",
      "  CA: West\n",
      "  NV: West\n",
      "  ID: West\n",
      "  ... and 44 more\n",
      "\n",
      "Clean Alternative Fuel Vehicle (CAFV) Eligibility:\n",
      "  Clean Alternative Fuel Vehicle (CAFV) Eligible: Eligible\n",
      "  Eligibility unknown as battery range has not been researched: Unknown\n",
      "  Not eligible: NotEligible\n"
     ]
    }
   ],
   "source": [
    "for attribute, mapping in hierarchy.items():\n",
    "    print(f\"\\n{attribute}:\")\n",
    "    if callable(mapping):\n",
    "        print(f\"  Custom function: {mapping.__name__}\")\n",
    "    else:\n",
    "        for key, value in list(mapping.items())[:5]:\n",
    "            print(f\"  {key}: {value}\")\n",
    "        if len(mapping) > 5:\n",
    "            print(f\"  ... and {len(mapping) - 5} more\")"
   ]
  },
  {
   "cell_type": "markdown",
   "metadata": {},
   "source": [
    "Generalising"
   ]
  },
  {
   "cell_type": "code",
   "execution_count": 11,
   "metadata": {},
   "outputs": [
    {
     "name": "stdout",
     "output_type": "stream",
     "text": [
      "Size after generalization: 181458\n"
     ]
    }
   ],
   "source": [
    "def generalize_attributes(data, concept_hierarchy):\n",
    "    generalized_data = data.copy()\n",
    "    for column in data.columns:\n",
    "        if column in concept_hierarchy:\n",
    "            generalized_data[column] = data[column].map(concept_hierarchy[column])\n",
    "    print(\"Size after generalization:\", len(generalized_data))\n",
    "\n",
    "    return generalized_data\n",
    "\n",
    "generalized_data = generalize_attributes(data_reduced, hierarchy)"
   ]
  },
  {
   "cell_type": "code",
   "execution_count": 12,
   "metadata": {},
   "outputs": [
    {
     "data": {
      "text/html": [
       "<div>\n",
       "<style scoped>\n",
       "    .dataframe tbody tr th:only-of-type {\n",
       "        vertical-align: middle;\n",
       "    }\n",
       "\n",
       "    .dataframe tbody tr th {\n",
       "        vertical-align: top;\n",
       "    }\n",
       "\n",
       "    .dataframe thead th {\n",
       "        text-align: right;\n",
       "    }\n",
       "</style>\n",
       "<table border=\"1\" class=\"dataframe\">\n",
       "  <thead>\n",
       "    <tr style=\"text-align: right;\">\n",
       "      <th></th>\n",
       "      <th>Make</th>\n",
       "      <th>Model</th>\n",
       "      <th>Electric Vehicle Type</th>\n",
       "      <th>Electric Range</th>\n",
       "      <th>Base MSRP</th>\n",
       "      <th>Model Year</th>\n",
       "      <th>State</th>\n",
       "      <th>Clean Alternative Fuel Vehicle (CAFV) Eligibility</th>\n",
       "    </tr>\n",
       "  </thead>\n",
       "  <tbody>\n",
       "    <tr>\n",
       "      <th>0</th>\n",
       "      <td>AUDI</td>\n",
       "      <td>A3</td>\n",
       "      <td>HybridElectric</td>\n",
       "      <td>ShortRange</td>\n",
       "      <td>HighEnd</td>\n",
       "      <td>2010s</td>\n",
       "      <td>West</td>\n",
       "      <td>NaN</td>\n",
       "    </tr>\n",
       "    <tr>\n",
       "      <th>1</th>\n",
       "      <td>AUDI</td>\n",
       "      <td>A3</td>\n",
       "      <td>HybridElectric</td>\n",
       "      <td>ShortRange</td>\n",
       "      <td>HighEnd</td>\n",
       "      <td>2010s</td>\n",
       "      <td>West</td>\n",
       "      <td>NaN</td>\n",
       "    </tr>\n",
       "    <tr>\n",
       "      <th>2</th>\n",
       "      <td>TESLA</td>\n",
       "      <td>MODEL S</td>\n",
       "      <td>FullElectric</td>\n",
       "      <td>LongRange</td>\n",
       "      <td>HighEnd</td>\n",
       "      <td>2010s</td>\n",
       "      <td>West</td>\n",
       "      <td>NaN</td>\n",
       "    </tr>\n",
       "    <tr>\n",
       "      <th>3</th>\n",
       "      <td>JEEP</td>\n",
       "      <td>WRANGLER</td>\n",
       "      <td>HybridElectric</td>\n",
       "      <td>ShortRange</td>\n",
       "      <td>HighEnd</td>\n",
       "      <td>2020s</td>\n",
       "      <td>West</td>\n",
       "      <td>NaN</td>\n",
       "    </tr>\n",
       "    <tr>\n",
       "      <th>4</th>\n",
       "      <td>TESLA</td>\n",
       "      <td>MODEL 3</td>\n",
       "      <td>FullElectric</td>\n",
       "      <td>LongRange</td>\n",
       "      <td>HighEnd</td>\n",
       "      <td>2020s</td>\n",
       "      <td>West</td>\n",
       "      <td>NaN</td>\n",
       "    </tr>\n",
       "  </tbody>\n",
       "</table>\n",
       "</div>"
      ],
      "text/plain": [
       "    Make     Model Electric Vehicle Type Electric Range Base MSRP Model Year  \\\n",
       "0   AUDI        A3        HybridElectric     ShortRange   HighEnd      2010s   \n",
       "1   AUDI        A3        HybridElectric     ShortRange   HighEnd      2010s   \n",
       "2  TESLA   MODEL S          FullElectric      LongRange   HighEnd      2010s   \n",
       "3   JEEP  WRANGLER        HybridElectric     ShortRange   HighEnd      2020s   \n",
       "4  TESLA   MODEL 3          FullElectric      LongRange   HighEnd      2020s   \n",
       "\n",
       "  State Clean Alternative Fuel Vehicle (CAFV) Eligibility  \n",
       "0  West                                               NaN  \n",
       "1  West                                               NaN  \n",
       "2  West                                               NaN  \n",
       "3  West                                               NaN  \n",
       "4  West                                               NaN  "
      ]
     },
     "execution_count": 12,
     "metadata": {},
     "output_type": "execute_result"
    }
   ],
   "source": [
    "generalized_data.head()"
   ]
  },
  {
   "cell_type": "markdown",
   "metadata": {},
   "source": [
    "Group-by"
   ]
  },
  {
   "cell_type": "code",
   "execution_count": 13,
   "metadata": {},
   "outputs": [
    {
     "data": {
      "text/html": [
       "<div>\n",
       "<style scoped>\n",
       "    .dataframe tbody tr th:only-of-type {\n",
       "        vertical-align: middle;\n",
       "    }\n",
       "\n",
       "    .dataframe tbody tr th {\n",
       "        vertical-align: top;\n",
       "    }\n",
       "\n",
       "    .dataframe thead th {\n",
       "        text-align: right;\n",
       "    }\n",
       "</style>\n",
       "<table border=\"1\" class=\"dataframe\">\n",
       "  <thead>\n",
       "    <tr style=\"text-align: right;\">\n",
       "      <th></th>\n",
       "      <th>Make</th>\n",
       "      <th>Model</th>\n",
       "      <th>Electric Vehicle Type</th>\n",
       "      <th>Electric Range</th>\n",
       "      <th>Base MSRP</th>\n",
       "      <th>Model Year</th>\n",
       "      <th>State</th>\n",
       "      <th>Clean Alternative Fuel Vehicle (CAFV) Eligibility</th>\n",
       "      <th>Count</th>\n",
       "    </tr>\n",
       "  </thead>\n",
       "  <tbody>\n",
       "    <tr>\n",
       "      <th>84</th>\n",
       "      <td>TESLA</td>\n",
       "      <td>MODEL Y</td>\n",
       "      <td>FullElectric</td>\n",
       "      <td>LongRange</td>\n",
       "      <td>HighEnd</td>\n",
       "      <td>2020s</td>\n",
       "      <td>West</td>\n",
       "      <td>Unknown</td>\n",
       "      <td>34598</td>\n",
       "    </tr>\n",
       "    <tr>\n",
       "      <th>76</th>\n",
       "      <td>TESLA</td>\n",
       "      <td>MODEL 3</td>\n",
       "      <td>FullElectric</td>\n",
       "      <td>LongRange</td>\n",
       "      <td>HighEnd</td>\n",
       "      <td>2020s</td>\n",
       "      <td>West</td>\n",
       "      <td>Unknown</td>\n",
       "      <td>16323</td>\n",
       "    </tr>\n",
       "    <tr>\n",
       "      <th>89</th>\n",
       "      <td>VOLKSWAGEN</td>\n",
       "      <td>ID.4</td>\n",
       "      <td>FullElectric</td>\n",
       "      <td>MediumRange</td>\n",
       "      <td>HighEnd</td>\n",
       "      <td>2020s</td>\n",
       "      <td>West</td>\n",
       "      <td>Unknown</td>\n",
       "      <td>4086</td>\n",
       "    </tr>\n",
       "    <tr>\n",
       "      <th>29</th>\n",
       "      <td>FORD</td>\n",
       "      <td>MUSTANG MACH-E</td>\n",
       "      <td>FullElectric</td>\n",
       "      <td>ShortRange</td>\n",
       "      <td>HighEnd</td>\n",
       "      <td>2020s</td>\n",
       "      <td>West</td>\n",
       "      <td>Unknown</td>\n",
       "      <td>3483</td>\n",
       "    </tr>\n",
       "    <tr>\n",
       "      <th>62</th>\n",
       "      <td>NISSAN</td>\n",
       "      <td>LEAF</td>\n",
       "      <td>FullElectric</td>\n",
       "      <td>MediumRange</td>\n",
       "      <td>HighEnd</td>\n",
       "      <td>2020s</td>\n",
       "      <td>West</td>\n",
       "      <td>Unknown</td>\n",
       "      <td>2601</td>\n",
       "    </tr>\n",
       "  </tbody>\n",
       "</table>\n",
       "</div>"
      ],
      "text/plain": [
       "          Make           Model Electric Vehicle Type Electric Range Base MSRP  \\\n",
       "84       TESLA         MODEL Y          FullElectric      LongRange   HighEnd   \n",
       "76       TESLA         MODEL 3          FullElectric      LongRange   HighEnd   \n",
       "89  VOLKSWAGEN            ID.4          FullElectric    MediumRange   HighEnd   \n",
       "29        FORD  MUSTANG MACH-E          FullElectric     ShortRange   HighEnd   \n",
       "62      NISSAN            LEAF          FullElectric    MediumRange   HighEnd   \n",
       "\n",
       "   Model Year State Clean Alternative Fuel Vehicle (CAFV) Eligibility  Count  \n",
       "84      2020s  West                                           Unknown  34598  \n",
       "76      2020s  West                                           Unknown  16323  \n",
       "89      2020s  West                                           Unknown   4086  \n",
       "29      2020s  West                                           Unknown   3483  \n",
       "62      2020s  West                                           Unknown   2601  "
      ]
     },
     "execution_count": 13,
     "metadata": {},
     "output_type": "execute_result"
    }
   ],
   "source": [
    "grouped_data = (\n",
    "    generalized_data.groupby(\n",
    "        [\n",
    "            \"Make\",\n",
    "            \"Model\",\n",
    "            \"Electric Vehicle Type\",\n",
    "            \"Electric Range\",\n",
    "            \"Base MSRP\",\n",
    "            \"Model Year\",\n",
    "            \"State\",\n",
    "            \"Clean Alternative Fuel Vehicle (CAFV) Eligibility\",\n",
    "        ]\n",
    "    )\n",
    "    .size()\n",
    "    .reset_index(name=\"Count\")\n",
    ")\n",
    "grouped_data = grouped_data.sort_values(by=\"Count\", ascending=False)\n",
    "grouped_data.head()"
   ]
  },
  {
   "cell_type": "markdown",
   "metadata": {},
   "source": [
    "Specific Grouping and Visualising"
   ]
  },
  {
   "cell_type": "code",
   "execution_count": 14,
   "metadata": {},
   "outputs": [
    {
     "data": {
      "text/html": [
       "<div>\n",
       "<style scoped>\n",
       "    .dataframe tbody tr th:only-of-type {\n",
       "        vertical-align: middle;\n",
       "    }\n",
       "\n",
       "    .dataframe tbody tr th {\n",
       "        vertical-align: top;\n",
       "    }\n",
       "\n",
       "    .dataframe thead th {\n",
       "        text-align: right;\n",
       "    }\n",
       "</style>\n",
       "<table border=\"1\" class=\"dataframe\">\n",
       "  <thead>\n",
       "    <tr style=\"text-align: right;\">\n",
       "      <th></th>\n",
       "      <th>Make</th>\n",
       "      <th>Count</th>\n",
       "    </tr>\n",
       "  </thead>\n",
       "  <tbody>\n",
       "    <tr>\n",
       "      <th>34</th>\n",
       "      <td>TESLA</td>\n",
       "      <td>80819</td>\n",
       "    </tr>\n",
       "    <tr>\n",
       "      <th>27</th>\n",
       "      <td>NISSAN</td>\n",
       "      <td>14037</td>\n",
       "    </tr>\n",
       "    <tr>\n",
       "      <th>6</th>\n",
       "      <td>CHEVROLET</td>\n",
       "      <td>13864</td>\n",
       "    </tr>\n",
       "    <tr>\n",
       "      <th>11</th>\n",
       "      <td>FORD</td>\n",
       "      <td>9527</td>\n",
       "    </tr>\n",
       "    <tr>\n",
       "      <th>4</th>\n",
       "      <td>BMW</td>\n",
       "      <td>7680</td>\n",
       "    </tr>\n",
       "  </tbody>\n",
       "</table>\n",
       "</div>"
      ],
      "text/plain": [
       "         Make  Count\n",
       "34      TESLA  80819\n",
       "27     NISSAN  14037\n",
       "6   CHEVROLET  13864\n",
       "11       FORD   9527\n",
       "4         BMW   7680"
      ]
     },
     "execution_count": 14,
     "metadata": {},
     "output_type": "execute_result"
    }
   ],
   "source": [
    "grouped_data_make = generalized_data.groupby(['Make']).size().reset_index(name='Count')\n",
    "grouped_data_make = grouped_data_make.sort_values(by=['Count'], ascending=False)\n",
    "grouped_data_make.head()"
   ]
  },
  {
   "cell_type": "code",
   "execution_count": 15,
   "metadata": {},
   "outputs": [
    {
     "data": {
      "image/png": "[encoded data removed]",
      "text/plain": [
       "<Figure size 1000x600 with 1 Axes>"
      ]
     },
     "metadata": {},
     "output_type": "display_data"
    }
   ],
   "source": [
    "plt.figure(figsize=(10, 6))\n",
    "sns.barplot(x='Count', y='Make', data=grouped_data_make.head(10))\n",
    "plt.title('Top 10 Makes of Electric Vehicles')\n",
    "plt.xlabel('Number of Vehicles')\n",
    "plt.ylabel('Make')\n",
    "plt.show()\n"
   ]
  },
  {
   "cell_type": "code",
   "execution_count": 16,
   "metadata": {},
   "outputs": [
    {
     "data": {
      "text/html": [
       "<div>\n",
       "<style scoped>\n",
       "    .dataframe tbody tr th:only-of-type {\n",
       "        vertical-align: middle;\n",
       "    }\n",
       "\n",
       "    .dataframe tbody tr th {\n",
       "        vertical-align: top;\n",
       "    }\n",
       "\n",
       "    .dataframe thead th {\n",
       "        text-align: right;\n",
       "    }\n",
       "</style>\n",
       "<table border=\"1\" class=\"dataframe\">\n",
       "  <thead>\n",
       "    <tr style=\"text-align: right;\">\n",
       "      <th></th>\n",
       "      <th>Electric Vehicle Type</th>\n",
       "      <th>State</th>\n",
       "      <th>Count</th>\n",
       "    </tr>\n",
       "  </thead>\n",
       "  <tbody>\n",
       "    <tr>\n",
       "      <th>3</th>\n",
       "      <td>FullElectric</td>\n",
       "      <td>West</td>\n",
       "      <td>141813</td>\n",
       "    </tr>\n",
       "    <tr>\n",
       "      <th>7</th>\n",
       "      <td>HybridElectric</td>\n",
       "      <td>West</td>\n",
       "      <td>39401</td>\n",
       "    </tr>\n",
       "    <tr>\n",
       "      <th>2</th>\n",
       "      <td>FullElectric</td>\n",
       "      <td>South</td>\n",
       "      <td>84</td>\n",
       "    </tr>\n",
       "    <tr>\n",
       "      <th>6</th>\n",
       "      <td>HybridElectric</td>\n",
       "      <td>South</td>\n",
       "      <td>46</td>\n",
       "    </tr>\n",
       "    <tr>\n",
       "      <th>1</th>\n",
       "      <td>FullElectric</td>\n",
       "      <td>Northeast</td>\n",
       "      <td>41</td>\n",
       "    </tr>\n",
       "  </tbody>\n",
       "</table>\n",
       "</div>"
      ],
      "text/plain": [
       "  Electric Vehicle Type      State   Count\n",
       "3          FullElectric       West  141813\n",
       "7        HybridElectric       West   39401\n",
       "2          FullElectric      South      84\n",
       "6        HybridElectric      South      46\n",
       "1          FullElectric  Northeast      41"
      ]
     },
     "execution_count": 16,
     "metadata": {},
     "output_type": "execute_result"
    }
   ],
   "source": [
    "grouped_data_type = generalized_data.groupby(['Electric Vehicle Type', 'State']).size().reset_index(name='Count')\n",
    "grouped_data_type = grouped_data_type.sort_values(by=['Count'], ascending=False)\n",
    "grouped_data_type.head()\n"
   ]
  },
  {
   "cell_type": "code",
   "execution_count": 17,
   "metadata": {},
   "outputs": [
    {
     "data": {
      "image/png": "[encoded data removed]",
      "text/plain": [
       "<Figure size 1000x600 with 1 Axes>"
      ]
     },
     "metadata": {},
     "output_type": "display_data"
    }
   ],
   "source": [
    "plt.figure(figsize=(10, 6))\n",
    "sns.barplot(x='Count', y='State', hue='Electric Vehicle Type', data=grouped_data_type)\n",
    "plt.title('Electric Vehicle Types in Different States')\n",
    "plt.xlabel('Number of Vehicles')\n",
    "plt.ylabel('State')\n",
    "plt.xscale('log')\n",
    "plt.show()\n"
   ]
  },
  {
   "cell_type": "code",
   "execution_count": 18,
   "metadata": {},
   "outputs": [
    {
     "data": {
      "text/html": [
       "<div>\n",
       "<style scoped>\n",
       "    .dataframe tbody tr th:only-of-type {\n",
       "        vertical-align: middle;\n",
       "    }\n",
       "\n",
       "    .dataframe tbody tr th {\n",
       "        vertical-align: top;\n",
       "    }\n",
       "\n",
       "    .dataframe thead th {\n",
       "        text-align: right;\n",
       "    }\n",
       "</style>\n",
       "<table border=\"1\" class=\"dataframe\">\n",
       "  <thead>\n",
       "    <tr style=\"text-align: right;\">\n",
       "      <th></th>\n",
       "      <th>Electric Range</th>\n",
       "      <th>Base MSRP</th>\n",
       "      <th>Count</th>\n",
       "    </tr>\n",
       "  </thead>\n",
       "  <tbody>\n",
       "    <tr>\n",
       "      <th>0</th>\n",
       "      <td>LongRange</td>\n",
       "      <td>HighEnd</td>\n",
       "      <td>89451</td>\n",
       "    </tr>\n",
       "    <tr>\n",
       "      <th>4</th>\n",
       "      <td>ShortRange</td>\n",
       "      <td>HighEnd</td>\n",
       "      <td>65559</td>\n",
       "    </tr>\n",
       "    <tr>\n",
       "      <th>2</th>\n",
       "      <td>MediumRange</td>\n",
       "      <td>HighEnd</td>\n",
       "      <td>13521</td>\n",
       "    </tr>\n",
       "    <tr>\n",
       "      <th>5</th>\n",
       "      <td>ShortRange</td>\n",
       "      <td>MidRange</td>\n",
       "      <td>10038</td>\n",
       "    </tr>\n",
       "    <tr>\n",
       "      <th>3</th>\n",
       "      <td>MediumRange</td>\n",
       "      <td>MidRange</td>\n",
       "      <td>2048</td>\n",
       "    </tr>\n",
       "  </tbody>\n",
       "</table>\n",
       "</div>"
      ],
      "text/plain": [
       "  Electric Range Base MSRP  Count\n",
       "0      LongRange   HighEnd  89451\n",
       "4     ShortRange   HighEnd  65559\n",
       "2    MediumRange   HighEnd  13521\n",
       "5     ShortRange  MidRange  10038\n",
       "3    MediumRange  MidRange   2048"
      ]
     },
     "execution_count": 18,
     "metadata": {},
     "output_type": "execute_result"
    }
   ],
   "source": [
    "grouped_data_range = generalized_data.groupby(['Electric Range', 'Base MSRP']).size().reset_index(name='Count')\n",
    "grouped_data_range = grouped_data_range.sort_values(by=['Count'], ascending=False)\n",
    "grouped_data_range.head()"
   ]
  },
  {
   "cell_type": "code",
   "execution_count": 19,
   "metadata": {},
   "outputs": [
    {
     "data": {
      "image/png": "[encoded data removed]",
      "text/plain": [
       "<Figure size 1000x600 with 1 Axes>"
      ]
     },
     "metadata": {},
     "output_type": "display_data"
    }
   ],
   "source": [
    "plt.figure(figsize=(10, 6))\n",
    "sns.barplot(x='Count', y='Electric Range', hue='Base MSRP', data=grouped_data_range)\n",
    "plt.title('Electric Vehicle Ranges and Prices')\n",
    "plt.xlabel('Number of Vehicles')\n",
    "plt.ylabel('Electric Range')\n",
    "plt.xscale('log')\n",
    "plt.show()\n"
   ]
  },
  {
   "cell_type": "code",
   "execution_count": 20,
   "metadata": {},
   "outputs": [
    {
     "data": {
      "text/html": [
       "<div>\n",
       "<style scoped>\n",
       "    .dataframe tbody tr th:only-of-type {\n",
       "        vertical-align: middle;\n",
       "    }\n",
       "\n",
       "    .dataframe tbody tr th {\n",
       "        vertical-align: top;\n",
       "    }\n",
       "\n",
       "    .dataframe thead th {\n",
       "        text-align: right;\n",
       "    }\n",
       "</style>\n",
       "<table border=\"1\" class=\"dataframe\">\n",
       "  <thead>\n",
       "    <tr style=\"text-align: right;\">\n",
       "      <th></th>\n",
       "      <th>Model Year</th>\n",
       "      <th>Make</th>\n",
       "      <th>Model</th>\n",
       "      <th>Count</th>\n",
       "    </tr>\n",
       "  </thead>\n",
       "  <tbody>\n",
       "    <tr>\n",
       "      <th>164</th>\n",
       "      <td>2020s</td>\n",
       "      <td>TESLA</td>\n",
       "      <td>MODEL Y</td>\n",
       "      <td>37007</td>\n",
       "    </tr>\n",
       "    <tr>\n",
       "      <th>161</th>\n",
       "      <td>2020s</td>\n",
       "      <td>TESLA</td>\n",
       "      <td>MODEL 3</td>\n",
       "      <td>19953</td>\n",
       "    </tr>\n",
       "    <tr>\n",
       "      <th>52</th>\n",
       "      <td>2010s</td>\n",
       "      <td>TESLA</td>\n",
       "      <td>MODEL 3</td>\n",
       "      <td>10197</td>\n",
       "    </tr>\n",
       "    <tr>\n",
       "      <th>44</th>\n",
       "      <td>2010s</td>\n",
       "      <td>NISSAN</td>\n",
       "      <td>LEAF</td>\n",
       "      <td>10121</td>\n",
       "    </tr>\n",
       "    <tr>\n",
       "      <th>53</th>\n",
       "      <td>2010s</td>\n",
       "      <td>TESLA</td>\n",
       "      <td>MODEL S</td>\n",
       "      <td>5588</td>\n",
       "    </tr>\n",
       "  </tbody>\n",
       "</table>\n",
       "</div>"
      ],
      "text/plain": [
       "    Model Year    Make    Model  Count\n",
       "164      2020s   TESLA  MODEL Y  37007\n",
       "161      2020s   TESLA  MODEL 3  19953\n",
       "52       2010s   TESLA  MODEL 3  10197\n",
       "44       2010s  NISSAN     LEAF  10121\n",
       "53       2010s   TESLA  MODEL S   5588"
      ]
     },
     "execution_count": 20,
     "metadata": {},
     "output_type": "execute_result"
    }
   ],
   "source": [
    "grouped_data_year = generalized_data.groupby(['Model Year', 'Make', 'Model']).size().reset_index(name='Count')\n",
    "grouped_data_year = grouped_data_year.sort_values(by=['Count'], ascending=False)\n",
    "grouped_data_year.head()\n"
   ]
  },
  {
   "cell_type": "code",
   "execution_count": 21,
   "metadata": {},
   "outputs": [
    {
     "data": {
      "image/png": "[encoded data removed]",
      "text/plain": [
       "<Figure size 1000x600 with 1 Axes>"
      ]
     },
     "metadata": {},
     "output_type": "display_data"
    }
   ],
   "source": [
    "plt.figure(figsize=(10, 6))\n",
    "sns.barplot(x='Count', y='Model Year', hue='Make', data=grouped_data_year.head(50), errorbar=None)\n",
    "plt.title('Top 10 Makes of Electric Vehicles by Model Year')\n",
    "plt.xlabel('Number of Vehicles')\n",
    "plt.xscale('log')\n",
    "plt.ylabel('Model Year')\n",
    "plt.show()"
   ]
  },
  {
   "cell_type": "code",
   "execution_count": 22,
   "metadata": {},
   "outputs": [
    {
     "data": {
      "image/png": "[encoded data removed]",
      "text/plain": [
       "<Figure size 1200x600 with 1 Axes>"
      ]
     },
     "metadata": {},
     "output_type": "display_data"
    }
   ],
   "source": [
    "state_count = generalized_data.groupby('State').size().sort_values(ascending=False).reset_index(name='Count')\n",
    "plt.figure(figsize=(12, 6))\n",
    "sns.barplot(x='State', y='Count', data=state_count.head(10))\n",
    "plt.title('Top 10 States by Electric Vehicle Count')\n",
    "plt.xticks(rotation=45)\n",
    "plt.yscale('log')\n",
    "plt.show()"
   ]
  }
 ],
 "metadata": {
  "kernelspec": {
   "display_name": "Python 3",
   "language": "python",
   "name": "python3"
  },
  "language_info": {
   "codemirror_mode": {
    "name": "ipython",
    "version": 3
   },
   "file_extension": ".py",
   "mimetype": "text/x-python",
   "name": "python",
   "nbconvert_exporter": "python",
   "pygments_lexer": "ipython3",
   "version": "3.10.11"
  }
 },
 "nbformat": 4,
 "nbformat_minor": 2
}
