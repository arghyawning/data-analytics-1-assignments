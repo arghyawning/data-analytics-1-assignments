{
 "cells": [
  {
   "cell_type": "markdown",
   "metadata": {},
   "source": [
    "# Task 2: Random Forest Classifier"
   ]
  },
  {
   "cell_type": "code",
   "execution_count": 43,
   "metadata": {},
   "outputs": [],
   "source": [
    "import pandas as pd\n",
    "import numpy as np\n",
    "\n",
    "from sklearn.model_selection import train_test_split\n",
    "\n",
    "from sklearn.tree import DecisionTreeClassifier\n",
    "from collections import Counter\n",
    "\n",
    "from sklearn.metrics import accuracy_score\n",
    "from sklearn.metrics import confusion_matrix\n",
    "\n",
    "import matplotlib.pyplot as plt\n"
   ]
  },
  {
   "cell_type": "code",
   "execution_count": 44,
   "metadata": {},
   "outputs": [],
   "source": [
    "data = pd.read_csv('data/train_preprocessed.csv')\n",
    "\n",
    "X = data.drop('Segmentation', axis=1)\n",
    "y = data['Segmentation']\n",
    "\n",
    "X_train, X_test, y_train, y_test = train_test_split(X, y, test_size=0.2, random_state=42)\n",
    "\n",
    "X_train = X_train.to_numpy()\n",
    "X_test = X_test.to_numpy()\n",
    "y_train = y_train.to_numpy()\n",
    "y_test = y_test.to_numpy()\n"
   ]
  },
  {
   "cell_type": "code",
   "execution_count": 45,
   "metadata": {},
   "outputs": [],
   "source": [
    "\n",
    "\n",
    "class RandomForest:\n",
    "    def __init__(self, n_trees=100, max_depth=3, max_features=None):\n",
    "        self.n_trees = n_trees\n",
    "        self.max_depth = max_depth\n",
    "        self.max_features = max_features\n",
    "        self.trees = []\n",
    "        self.features_idx = []\n",
    "    \n",
    "    def _bootstrap_sample(self, X, y):\n",
    "        \"\"\"Create a bootstrap sample (sample with replacement).\"\"\"\n",
    "        n_samples = X.shape[0]\n",
    "        idxs = np.random.choice(n_samples, n_samples, replace=True)\n",
    "        return X[idxs], y[idxs]\n",
    "    \n",
    "    def _random_features(self, n_features):\n",
    "        \"\"\"Randomly select a subset of features.\"\"\"\n",
    "        if self.max_features is None:\n",
    "            # Use the square root of total features as a default\n",
    "            self.max_features = int(np.sqrt(n_features))\n",
    "        features_idx = np.random.choice(n_features, self.max_features, replace=False)\n",
    "        return features_idx\n",
    "    \n",
    "    def fit(self, X, y):\n",
    "        \"\"\"Fit the random forest with decision trees on bootstrap samples.\"\"\"\n",
    "        n_features = X.shape[1]\n",
    "        for _ in range(self.n_trees):\n",
    "            # Bootstrap sampling\n",
    "            X_sample, y_sample = self._bootstrap_sample(X, y)\n",
    "            \n",
    "            # Random feature selection\n",
    "            features_idx = self._random_features(n_features)\n",
    "            self.features_idx.append(features_idx)\n",
    "            \n",
    "            # Train a decision tree using the selected features\n",
    "            tree = DecisionTreeClassifier(max_depth=self.max_depth)\n",
    "            tree.fit(X_sample[:, features_idx], y_sample)\n",
    "            self.trees.append(tree)\n",
    "    \n",
    "    def _predict_tree(self, tree, X, features_idx):\n",
    "        \"\"\"Predict using a single tree and corresponding feature indices.\"\"\"\n",
    "        return tree.predict(X[:, features_idx])\n",
    "    \n",
    "    def predict(self, X):\n",
    "        \"\"\"Predict the class labels for samples in X.\"\"\"\n",
    "        # Collect predictions from each tree\n",
    "        tree_predictions = np.array([\n",
    "            self._predict_tree(tree, X, features_idx)\n",
    "            for tree, features_idx in zip(self.trees, self.features_idx)\n",
    "        ])\n",
    "        \n",
    "        # Majority voting\n",
    "        y_pred = np.apply_along_axis(lambda x: Counter(x).most_common(1)[0][0], axis=0, arr=tree_predictions)\n",
    "        return y_pred\n"
   ]
  },
  {
   "cell_type": "code",
   "execution_count": 46,
   "metadata": {},
   "outputs": [
    {
     "name": "stdout",
     "output_type": "stream",
     "text": [
      "Accuracy: 0.3627760252365931\n",
      "Confusion matrix:\n",
      "[[47 16  2 33]\n",
      " [34 14  4 18]\n",
      " [25 11  2 13]\n",
      " [33 11  2 52]]\n"
     ]
    }
   ],
   "source": [
    "\n",
    "rf = RandomForest(n_trees=10, max_depth=4)\n",
    "rf.fit(X_train, y_train)\n",
    "\n",
    "y_pred = rf.predict(X_test)\n",
    "print(\"Accuracy:\", accuracy_score(y_test, y_pred))\n",
    "\n",
    "conf_matrix = confusion_matrix(y_test, y_pred)\n",
    "print(\"Confusion matrix:\")\n",
    "print(conf_matrix)\n",
    "\n"
   ]
  },
  {
   "cell_type": "code",
   "execution_count": 47,
   "metadata": {},
   "outputs": [
    {
     "name": "stdout",
     "output_type": "stream",
     "text": [
      "Best parameters: {'n_trees': 100}, Best accuracy: 0.3849\n"
     ]
    }
   ],
   "source": [
    "num_trees = [1, 5, 10, 20, 50, 100, 200, 500, 1000]\n",
    "# max_depths = [1, 2, 3, 4, 5, 6, 7, 8, 9, 10]\n",
    "max_depth = 4\n",
    "\n",
    "best_accuracy = 0\n",
    "best_params = {}\n",
    "accuracies = []\n",
    "\n",
    "for n_trees in num_trees:\n",
    "    # for max_depth in max_depths:\n",
    "    rf = RandomForest(n_trees=n_trees, max_depth=max_depth)\n",
    "    rf.fit(X_train, y_train)\n",
    "    y_pred = rf.predict(X_test)\n",
    "    accuracy = accuracy_score(y_test, y_pred)\n",
    "    accuracies.append(accuracy)\n",
    "    if accuracy > best_accuracy:\n",
    "        best_accuracy = accuracy\n",
    "        # best_params = {'n_trees': n_trees, 'max_depth': max_depth}\n",
    "        best_params = {'n_trees': n_trees}\n",
    "\n",
    "print(f\"Best parameters: {best_params}, Best accuracy: {best_accuracy:.4f}\")\n"
   ]
  },
  {
   "cell_type": "code",
   "execution_count": 48,
   "metadata": {},
   "outputs": [
    {
     "data": {
      "image/png": "[encoded data removed]",
      "text/plain": [
       "<Figure size 1000x600 with 1 Axes>"
      ]
     },
     "metadata": {},
     "output_type": "display_data"
    }
   ],
   "source": [
    "\n",
    "plt.figure(figsize=(10, 6))\n",
    "\n",
    "plt.plot(num_trees, accuracies, marker='o')\n",
    "plt.title('Random Forest Accuracy vs. Number of Trees')\n",
    "plt.xlabel('Number of Trees')\n",
    "plt.ylabel('Accuracy')\n",
    "plt.xticks(num_trees)\n",
    "plt.grid(True)\n",
    "plt.show()\n"
   ]
  },
  {
   "cell_type": "code",
   "execution_count": 49,
   "metadata": {},
   "outputs": [
    {
     "name": "stdout",
     "output_type": "stream",
     "text": [
      "Predictions on Test Set:\n",
      "['D' 'A' 'D' 'A' 'A' 'D' 'A' 'A' 'D' 'A' 'A' 'A' 'A' 'D' 'D' 'D' 'A' 'D'\n",
      " 'A' 'A' 'A' 'A' 'A' 'A' 'A' 'D' 'A' 'A' 'D' 'A' 'A' 'A' 'D' 'A' 'D' 'A'\n",
      " 'D' 'D' 'A' 'D' 'A' 'A' 'A' 'D' 'D' 'A' 'D' 'A' 'A' 'D' 'D' 'A' 'D' 'A'\n",
      " 'D' 'A' 'A' 'A' 'A' 'A' 'A' 'D' 'A' 'A' 'D' 'A' 'A' 'A' 'A' 'A' 'A' 'A'\n",
      " 'A' 'A' 'D' 'A' 'A' 'A' 'D' 'D' 'A' 'A' 'A' 'A' 'A' 'A' 'D' 'D' 'A' 'A'\n",
      " 'A' 'A' 'A' 'A' 'A' 'D' 'D' 'D' 'D' 'A' 'A' 'A' 'A' 'A' 'A' 'A' 'A' 'A'\n",
      " 'A' 'A' 'A' 'A' 'A' 'A' 'A' 'A' 'A' 'A' 'D' 'D' 'A' 'A' 'D' 'A' 'D' 'A'\n",
      " 'A' 'D' 'A' 'A' 'A' 'A' 'A' 'A' 'A' 'D' 'A' 'D' 'D' 'D' 'D' 'A' 'D' 'A'\n",
      " 'D' 'A' 'A' 'A' 'A' 'A' 'A' 'A' 'A' 'A' 'D' 'A' 'A' 'A' 'A' 'A' 'D' 'D'\n",
      " 'A' 'D' 'A' 'A' 'A' 'D' 'A' 'A' 'D' 'A' 'D' 'A' 'D' 'A' 'D' 'D' 'A' 'D'\n",
      " 'D' 'D' 'A' 'A' 'A' 'A' 'A' 'D' 'A' 'A' 'A' 'A' 'D' 'A' 'A' 'A' 'D' 'A'\n",
      " 'A' 'A' 'A' 'D' 'A' 'A' 'A' 'A' 'A' 'A' 'A' 'A' 'A' 'D' 'A' 'D' 'A' 'D'\n",
      " 'D' 'A' 'A' 'A' 'D' 'A' 'A' 'A' 'A' 'A' 'A' 'A' 'A' 'A' 'A' 'A' 'A' 'A'\n",
      " 'A' 'D' 'A' 'D' 'A' 'A' 'A' 'A' 'A' 'D' 'D' 'A' 'A' 'A' 'A' 'A' 'D' 'A'\n",
      " 'A' 'A' 'A' 'A' 'A' 'A' 'A' 'A' 'A' 'D' 'A' 'D' 'D' 'A' 'A' 'A' 'D' 'A'\n",
      " 'D' 'A' 'A' 'D' 'D' 'A' 'A' 'D' 'D' 'A' 'D' 'A' 'D' 'D' 'A' 'A' 'A' 'A'\n",
      " 'A' 'A' 'A' 'A' 'A' 'A' 'D' 'A' 'D' 'A' 'A' 'D' 'A' 'D' 'A' 'A' 'A' 'A'\n",
      " 'A' 'A' 'A' 'A' 'A' 'A' 'A' 'D' 'A' 'A' 'A' 'A' 'D' 'A' 'A' 'A' 'A' 'A'\n",
      " 'A' 'A' 'A' 'A' 'D' 'A' 'A' 'A' 'A' 'A' 'A' 'D' 'A' 'D' 'A' 'A' 'A' 'A'\n",
      " 'A' 'A' 'A' 'D' 'A' 'A' 'A' 'D' 'D' 'D' 'D' 'D' 'A' 'A' 'A' 'A' 'A' 'D'\n",
      " 'A' 'A' 'A' 'A' 'A' 'A' 'D' 'A' 'A' 'D' 'A' 'D' 'A' 'D' 'A' 'D' 'A' 'A'\n",
      " 'A' 'D' 'A' 'A' 'A' 'A' 'A' 'A' 'A' 'A' 'A' 'A' 'A' 'A' 'A' 'A' 'A' 'A'\n",
      " 'A' 'A' 'A' 'D' 'A' 'A' 'A' 'A' 'A' 'A' 'A' 'A' 'A' 'A' 'A' 'A' 'D' 'A'\n",
      " 'A' 'A' 'A' 'A' 'A' 'D' 'A' 'A' 'A' 'A' 'D' 'A' 'A' 'D' 'D' 'A' 'A' 'A'\n",
      " 'A' 'A' 'A' 'A' 'A' 'A' 'A' 'A' 'A' 'A' 'A' 'A' 'D' 'A' 'D' 'A' 'A' 'A'\n",
      " 'D' 'A' 'A' 'D' 'D' 'D' 'A' 'D' 'A' 'A' 'D' 'D' 'A' 'A' 'A' 'A' 'A' 'A'\n",
      " 'A' 'A' 'D' 'D' 'A' 'A' 'A' 'A' 'D' 'A' 'D' 'A' 'A' 'D' 'A' 'A' 'A' 'D'\n",
      " 'A' 'A' 'A' 'A' 'A' 'A' 'D' 'A' 'D' 'D' 'D' 'D' 'D' 'D' 'A' 'A' 'A' 'A'\n",
      " 'A' 'A' 'D' 'D' 'A' 'A' 'A' 'A' 'A' 'D' 'A' 'D' 'D' 'A' 'D' 'A' 'D' 'A'\n",
      " 'D' 'D' 'A' 'A' 'A' 'A' 'A' 'A' 'D' 'A' 'D' 'A' 'A' 'A' 'A' 'A' 'D' 'D'\n",
      " 'A' 'A' 'A' 'A' 'D' 'D' 'A' 'A' 'A' 'D' 'D' 'A' 'D' 'A' 'A' 'A' 'A' 'A'\n",
      " 'A' 'A' 'D' 'A' 'A' 'A' 'D' 'A' 'A' 'A' 'A' 'A' 'A' 'A' 'D' 'D' 'A' 'A'\n",
      " 'A' 'A' 'A' 'A' 'D' 'D' 'A' 'A' 'A' 'A' 'A' 'A' 'A' 'A' 'A' 'D' 'D' 'A'\n",
      " 'A' 'A' 'A' 'D' 'A' 'A' 'D' 'D' 'D' 'A' 'A' 'D' 'A' 'D' 'D' 'A' 'A' 'A'\n",
      " 'D' 'A' 'A' 'A' 'A' 'A' 'A' 'A' 'A' 'D' 'A' 'D' 'A' 'D' 'D' 'A' 'D' 'A'\n",
      " 'A' 'A' 'A' 'A' 'D' 'D' 'D' 'A' 'A' 'D' 'A' 'A' 'D' 'D' 'A' 'A' 'D' 'A'\n",
      " 'A' 'D' 'A' 'D' 'A' 'A' 'A' 'A' 'D' 'A' 'D' 'A' 'A' 'A' 'D' 'A' 'D' 'A'\n",
      " 'A' 'A' 'D' 'A' 'A' 'A' 'D' 'A' 'A' 'A' 'A' 'D' 'A' 'D' 'A' 'A' 'A' 'D'\n",
      " 'A' 'A' 'A' 'A' 'A' 'A' 'D' 'A' 'A' 'D' 'A' 'A' 'D' 'D' 'D' 'D' 'D' 'D'\n",
      " 'A' 'A' 'A' 'A' 'A' 'A' 'A' 'D' 'A' 'A' 'D' 'D' 'A' 'A' 'A' 'A' 'A' 'A'\n",
      " 'A' 'D' 'A' 'A' 'A' 'A' 'A' 'D' 'A' 'A' 'D' 'D' 'A' 'A' 'D' 'A' 'A' 'D'\n",
      " 'D' 'D' 'D' 'A' 'D' 'D' 'A' 'D' 'A' 'A' 'D' 'D' 'A' 'A' 'A' 'D' 'A' 'A'\n",
      " 'A' 'D' 'A' 'A' 'D' 'A' 'A' 'A' 'A' 'D' 'A' 'D' 'A' 'A' 'D' 'A' 'A' 'D'\n",
      " 'A' 'D' 'A' 'A' 'A' 'A' 'A' 'A' 'A' 'A' 'D' 'A' 'D' 'D' 'A']\n"
     ]
    }
   ],
   "source": [
    "test_data = pd.read_csv('data/test_preprocessed.csv')\n",
    "\n",
    "X_test_data = test_data.to_numpy()\n",
    "\n",
    "y_pred = rf.predict(X_test_data)\n",
    "\n",
    "# map the predictions to the corresponding class labels\n",
    "y_pred = pd.Series(y_pred).map({0: 'A', 1: 'B', 2: 'C', 3: 'D'}).to_numpy()\n",
    "\n",
    "print(\"Predictions on Test Set:\")\n",
    "print(y_pred)\n",
    "\n"
   ]
  }
 ],
 "metadata": {
  "kernelspec": {
   "display_name": "Python 3",
   "language": "python",
   "name": "python3"
  },
  "language_info": {
   "codemirror_mode": {
    "name": "ipython",
    "version": 3
   },
   "file_extension": ".py",
   "mimetype": "text/x-python",
   "name": "python",
   "nbconvert_exporter": "python",
   "pygments_lexer": "ipython3",
   "version": "3.10.11"
  }
 },
 "nbformat": 4,
 "nbformat_minor": 2
}
